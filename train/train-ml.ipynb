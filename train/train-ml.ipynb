{
  "nbformat": 4,
  "nbformat_minor": 0,
  "metadata": {
    "colab": {
      "provenance": [],
      "gpuType": "T4",
      "authorship_tag": "ABX9TyPXLZ+71tw9Y3uLrQwE3zcw",
      "include_colab_link": true
    },
    "kernelspec": {
      "name": "python3",
      "display_name": "Python 3"
    },
    "language_info": {
      "name": "python"
    },
    "accelerator": "GPU"
  },
  "cells": [
    {
      "cell_type": "markdown",
      "metadata": {
        "id": "view-in-github",
        "colab_type": "text"
      },
      "source": [
        "<a href=\"https://colab.research.google.com/github/rediahmds/eco-sort/blob/main/train/train-ml.ipynb\" target=\"_parent\"><img src=\"https://colab.research.google.com/assets/colab-badge.svg\" alt=\"Open In Colab\"/></a>"
      ]
    },
    {
      "cell_type": "markdown",
      "source": [
        "# EcoSort Machine Learning"
      ],
      "metadata": {
        "id": "volnEQRRH4ER"
      }
    },
    {
      "cell_type": "markdown",
      "source": [
        "## Prepare dataset"
      ],
      "metadata": {
        "id": "QzhnrucTH9B5"
      }
    },
    {
      "cell_type": "code",
      "source": [
        "!pip install kagglehub"
      ],
      "metadata": {
        "colab": {
          "base_uri": "https://localhost:8080/"
        },
        "id": "YmDemaSPIAwB",
        "outputId": "27a4689c-00d4-47ab-ed77-5de4b0a7174f"
      },
      "execution_count": 1,
      "outputs": [
        {
          "output_type": "stream",
          "name": "stdout",
          "text": [
            "Requirement already satisfied: kagglehub in /usr/local/lib/python3.11/dist-packages (0.3.12)\n",
            "Requirement already satisfied: packaging in /usr/local/lib/python3.11/dist-packages (from kagglehub) (24.2)\n",
            "Requirement already satisfied: pyyaml in /usr/local/lib/python3.11/dist-packages (from kagglehub) (6.0.2)\n",
            "Requirement already satisfied: requests in /usr/local/lib/python3.11/dist-packages (from kagglehub) (2.32.3)\n",
            "Requirement already satisfied: tqdm in /usr/local/lib/python3.11/dist-packages (from kagglehub) (4.67.1)\n",
            "Requirement already satisfied: charset-normalizer<4,>=2 in /usr/local/lib/python3.11/dist-packages (from requests->kagglehub) (3.4.2)\n",
            "Requirement already satisfied: idna<4,>=2.5 in /usr/local/lib/python3.11/dist-packages (from requests->kagglehub) (3.10)\n",
            "Requirement already satisfied: urllib3<3,>=1.21.1 in /usr/local/lib/python3.11/dist-packages (from requests->kagglehub) (2.4.0)\n",
            "Requirement already satisfied: certifi>=2017.4.17 in /usr/local/lib/python3.11/dist-packages (from requests->kagglehub) (2025.7.9)\n"
          ]
        }
      ]
    },
    {
      "cell_type": "code",
      "source": [
        "import kagglehub\n",
        "\n",
        "\n",
        "# Download latest version\n",
        "path = kagglehub.dataset_download(\"techsash/waste-classification-data\")\n",
        "\n",
        "print(\"Path to dataset files:\", path)"
      ],
      "metadata": {
        "colab": {
          "base_uri": "https://localhost:8080/"
        },
        "id": "c7z9bUKvIILD",
        "outputId": "017bae66-9da5-41fc-83a8-92bbf9931e93"
      },
      "execution_count": null,
      "outputs": [
        {
          "output_type": "stream",
          "name": "stdout",
          "text": [
            "Path to dataset files: /kaggle/input/waste-classification-data\n"
          ]
        }
      ]
    },
    {
      "cell_type": "code",
      "source": [
        "!ls /kaggle/input/waste-classification-data/DATASET/TRAIN"
      ],
      "metadata": {
        "colab": {
          "base_uri": "https://localhost:8080/"
        },
        "id": "jjeCgcLENw_b",
        "outputId": "4c1448ff-8bdc-4540-d8e9-3a3ae069102e"
      },
      "execution_count": null,
      "outputs": [
        {
          "output_type": "stream",
          "name": "stdout",
          "text": [
            "O  R\n"
          ]
        }
      ]
    },
    {
      "cell_type": "code",
      "source": [
        "from pathlib import Path\n",
        "import shutil\n",
        "from tqdm import tqdm\n",
        "from random import sample, seed\n",
        "seed(13)\n",
        "\n",
        "original_path = Path(f\"{path}/DATASET/TRAIN\")\n",
        "target_path = Path(\"dataset\")\n",
        "n_file = 1_000  # Jumlah file yang ingin disalin per kelas\n",
        "\n",
        "# Mapping folder ke kelas\n",
        "label_map = {\n",
        "    \"O\": \"organik\",\n",
        "    \"R\": \"non_organik\"\n",
        "}\n",
        "\n",
        "# Buat direktori target\n",
        "for label in label_map.values():\n",
        "    (target_path / label).mkdir(parents=True, exist_ok=True)\n",
        "\n",
        "# Proses penyalinan file secara random\n",
        "for subfolder, kelas in label_map.items():\n",
        "    source_dir = original_path / subfolder\n",
        "    dest_dir = target_path / kelas\n",
        "\n",
        "    # Ambil semua file\n",
        "    all_files = [f for f in source_dir.iterdir() if f.is_file()]\n",
        "    jumlah_file_tersedia = len(all_files)\n",
        "\n",
        "    # Ambil sample acak sejumlah n_file atau maksimal yang tersedia\n",
        "    selected_files = sample(all_files, min(n_file, jumlah_file_tersedia))\n",
        "\n",
        "    for file in tqdm(selected_files, desc=f\"Copying {subfolder} -> {kelas}\"):\n",
        "        shutil.copy(file, dest_dir)\n"
      ],
      "metadata": {
        "colab": {
          "base_uri": "https://localhost:8080/"
        },
        "id": "hjEGo5QfKFeI",
        "outputId": "671b23a5-d623-4dc2-b46d-0bf1436f9fc6"
      },
      "execution_count": null,
      "outputs": [
        {
          "output_type": "stream",
          "name": "stderr",
          "text": [
            "Copying O -> organik: 100%|██████████| 1000/1000 [00:04<00:00, 218.78it/s]\n",
            "Copying R -> non_organik: 100%|██████████| 1000/1000 [00:04<00:00, 231.70it/s]\n"
          ]
        }
      ]
    },
    {
      "cell_type": "markdown",
      "source": [
        "## Feature Extraction"
      ],
      "metadata": {
        "id": "YJmfYl71PMVJ"
      }
    },
    {
      "cell_type": "code",
      "source": [
        "import cv2\n",
        "import numpy as np\n",
        "from pathlib import Path\n",
        "from skimage.feature import local_binary_pattern\n",
        "\n",
        "def extract_features(img_path: Path):\n",
        "    img = cv2.imread(str(img_path))\n",
        "    img = cv2.resize(img, (128, 128))\n",
        "\n",
        "    hsv = cv2.cvtColor(img, cv2.COLOR_BGR2HSV)\n",
        "    hist = cv2.calcHist([hsv], [0, 1, 2], None, [8, 8, 8],\n",
        "                        [0, 180, 0, 256, 0, 256])\n",
        "    hist = cv2.normalize(hist, hist).flatten()\n",
        "\n",
        "    gray = cv2.cvtColor(img, cv2.COLOR_BGR2GRAY)\n",
        "    lbp = local_binary_pattern(gray, P=8, R=1, method='uniform')\n",
        "    lbp_hist, _ = np.histogram(lbp.ravel(), bins=np.arange(0, 10), range=(0, 9))\n",
        "    lbp_hist = lbp_hist.astype(\"float\")\n",
        "    lbp_hist /= (lbp_hist.sum() + 1e-6)\n",
        "\n",
        "    return np.hstack([hist, lbp_hist])\n",
        "\n",
        "def load_dataset(path: Path):\n",
        "    X, y = [], []\n",
        "    for label in ['organik', 'non_organik']:\n",
        "        folder = path / label\n",
        "        for file in folder.iterdir():\n",
        "            if file.is_file():\n",
        "                X.append(extract_features(file))\n",
        "                y.append(label)\n",
        "    return np.array(X), np.array(y)\n"
      ],
      "metadata": {
        "id": "sdZQs0OAPL9r"
      },
      "execution_count": null,
      "outputs": []
    },
    {
      "cell_type": "markdown",
      "source": [
        "## Training"
      ],
      "metadata": {
        "id": "HRt7lVh-PkGl"
      }
    },
    {
      "cell_type": "markdown",
      "source": [
        "Model Selection"
      ],
      "metadata": {
        "id": "yG3-zsDBaz-6"
      }
    },
    {
      "cell_type": "code",
      "source": [
        "from pathlib import Path\n",
        "from sklearn.model_selection import train_test_split, GridSearchCV\n",
        "from sklearn.preprocessing import StandardScaler\n",
        "from sklearn.metrics import classification_report, ConfusionMatrixDisplay\n",
        "from sklearn.svm import SVC\n",
        "from sklearn.neighbors import KNeighborsClassifier\n",
        "from sklearn.ensemble import RandomForestClassifier\n",
        "import matplotlib.pyplot as plt\n",
        "\n",
        "# Load dataset & preprocessing\n",
        "X, y = load_dataset(Path(\"dataset\"))\n",
        "X_train, X_test, y_train, y_test = train_test_split(X, y, test_size=0.2, random_state=42)\n",
        "\n",
        "scaler = StandardScaler()\n",
        "X_train = scaler.fit_transform(X_train)\n",
        "X_test = scaler.transform(X_test)\n",
        "\n",
        "# Model kandidat\n",
        "models = {\n",
        "    \"SVM Linear\": SVC(kernel=\"linear\"),\n",
        "    \"SVM RBF\": SVC(kernel=\"rbf\"),\n",
        "    \"KNN\": KNeighborsClassifier(),\n",
        "    \"Random Forest\": RandomForestClassifier()\n",
        "}\n",
        "\n",
        "print(\"🔎 Evaluasi awal model:\")\n",
        "for name, model in models.items():\n",
        "    model.fit(X_train, y_train)\n",
        "    acc = model.score(X_test, y_test)\n",
        "    print(f\"{name}: Akurasi = {acc:.4f}\")\n",
        "\n",
        "# Tuning model terbaik (contoh: Random Forest)\n",
        "print(\"\\n🔧 Tuning Random Forest (GridSearchCV)...\")\n",
        "param_grid = {\n",
        "    \"n_estimators\": [50, 100],\n",
        "    \"max_depth\": [None, 10, 20],\n",
        "    \"min_samples_split\": [2, 5]\n",
        "}\n",
        "grid = GridSearchCV(RandomForestClassifier(), param_grid, cv=5, scoring=\"accuracy\", n_jobs=-1)\n",
        "grid.fit(X_train, y_train)\n",
        "\n",
        "print(f\"✅ Model terbaik: {grid.best_estimator_}\")\n",
        "print(\"Akurasi akhir (test set):\", grid.score(X_test, y_test))\n",
        "\n",
        "# Classification report & confusion matrix\n",
        "y_pred = grid.predict(X_test)\n",
        "print(\"\\n🧾 Classification Report:\")\n",
        "print(classification_report(y_test, y_pred))\n",
        "\n",
        "ConfusionMatrixDisplay.from_estimator(grid, X_test, y_test)\n",
        "plt.title(\"Confusion Matrix - Random Forest (Best)\")\n",
        "plt.show()\n",
        "\n",
        "import joblib\n",
        "\n",
        "# Simpan model terbaik\n",
        "joblib.dump(grid.best_estimator_, \"model.pkl\")\n",
        "print(\"💾 Model terbaik disimpan sebagai 'model.pkl'\")\n"
      ],
      "metadata": {
        "colab": {
          "base_uri": "https://localhost:8080/",
          "height": 847
        },
        "id": "FfuK-wpvav5p",
        "outputId": "ff69bec1-bc32-42bb-9e06-76d153861ea2"
      },
      "execution_count": null,
      "outputs": [
        {
          "output_type": "stream",
          "name": "stdout",
          "text": [
            "🔎 Evaluasi awal model:\n",
            "SVM Linear: Akurasi = 0.7785\n",
            "SVM RBF: Akurasi = 0.8128\n",
            "KNN: Akurasi = 0.8128\n",
            "Random Forest: Akurasi = 0.8584\n",
            "\n",
            "🔧 Tuning Random Forest (GridSearchCV)...\n",
            "✅ Model terbaik: RandomForestClassifier(max_depth=20, min_samples_split=5, n_estimators=50)\n",
            "Akurasi akhir (test set): 0.8584474885844748\n",
            "\n",
            "🧾 Classification Report:\n",
            "              precision    recall  f1-score   support\n",
            "\n",
            " non_organik       0.87      0.83      0.85       214\n",
            "     organik       0.85      0.88      0.86       224\n",
            "\n",
            "    accuracy                           0.86       438\n",
            "   macro avg       0.86      0.86      0.86       438\n",
            "weighted avg       0.86      0.86      0.86       438\n",
            "\n"
          ]
        },
        {
          "output_type": "display_data",
          "data": {
            "text/plain": [
              "<Figure size 640x480 with 2 Axes>"
            ],
            "image/png": "[encoded data removed]"
          },
          "metadata": {}
        },
        {
          "output_type": "stream",
          "name": "stdout",
          "text": [
            "💾 Model terbaik disimpan sebagai 'model.pkl'\n"
          ]
        }
      ]
    }
  ]
}