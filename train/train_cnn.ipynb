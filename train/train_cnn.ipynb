{
  "nbformat": 4,
  "nbformat_minor": 0,
  "metadata": {
    "colab": {
      "provenance": [],
      "gpuType": "T4",
      "include_colab_link": true
    },
    "kernelspec": {
      "name": "python3",
      "display_name": "Python 3"
    },
    "language_info": {
      "name": "python"
    },
    "accelerator": "GPU"
  },
  "cells": [
    {
      "cell_type": "markdown",
      "metadata": {
        "id": "view-in-github",
        "colab_type": "text"
      },
      "source": [
        "<a href=\"https://colab.research.google.com/github/rediahmds/eco-sort/blob/main/train/train_cnn.ipynb\" target=\"_parent\"><img src=\"https://colab.research.google.com/assets/colab-badge.svg\" alt=\"Open In Colab\"/></a>"
      ]
    },
    {
      "cell_type": "markdown",
      "source": [
        "## Prepare dataset"
      ],
      "metadata": {
        "id": "HYavOwVuEkGf"
      }
    },
    {
      "cell_type": "code",
      "source": [
        "!pip install kagglehub"
      ],
      "metadata": {
        "colab": {
          "base_uri": "https://localhost:8080/"
        },
        "id": "Tn1Y2iaEEjhQ",
        "outputId": "845ff34b-4c7c-40b2-8151-5ee263f2be06"
      },
      "execution_count": 1,
      "outputs": [
        {
          "output_type": "stream",
          "name": "stdout",
          "text": [
            "Requirement already satisfied: kagglehub in /usr/local/lib/python3.11/dist-packages (0.3.12)\n",
            "Requirement already satisfied: packaging in /usr/local/lib/python3.11/dist-packages (from kagglehub) (25.0)\n",
            "Requirement already satisfied: pyyaml in /usr/local/lib/python3.11/dist-packages (from kagglehub) (6.0.2)\n",
            "Requirement already satisfied: requests in /usr/local/lib/python3.11/dist-packages (from kagglehub) (2.32.3)\n",
            "Requirement already satisfied: tqdm in /usr/local/lib/python3.11/dist-packages (from kagglehub) (4.67.1)\n",
            "Requirement already satisfied: charset-normalizer<4,>=2 in /usr/local/lib/python3.11/dist-packages (from requests->kagglehub) (3.4.2)\n",
            "Requirement already satisfied: idna<4,>=2.5 in /usr/local/lib/python3.11/dist-packages (from requests->kagglehub) (3.10)\n",
            "Requirement already satisfied: urllib3<3,>=1.21.1 in /usr/local/lib/python3.11/dist-packages (from requests->kagglehub) (2.4.0)\n",
            "Requirement already satisfied: certifi>=2017.4.17 in /usr/local/lib/python3.11/dist-packages (from requests->kagglehub) (2025.7.14)\n"
          ]
        }
      ]
    },
    {
      "cell_type": "markdown",
      "source": [
        "### Download"
      ],
      "metadata": {
        "id": "oCK3f0-SFms6"
      }
    },
    {
      "cell_type": "code",
      "source": [
        "import kagglehub\n",
        "\n",
        "alistair_ds = kagglehub.dataset_download(\"alistairking/recyclable-and-household-waste-classification\")\n",
        "print(\"Path to dataset files:\", alistair_ds)\n",
        "\n",
        "mostafa_ds = kagglehub.dataset_download(\"mostafaabla/garbage-classification\")\n",
        "print(\"Path to dataset files:\", mostafa_ds)\n",
        "\n",
        "joe_ds = kagglehub.dataset_download(\"joebeachcapital/realwaste\")\n",
        "print(\"Path to dataset files:\", joe_ds)"
      ],
      "metadata": {
        "colab": {
          "base_uri": "https://localhost:8080/"
        },
        "id": "_W_LNqHXEsGo",
        "outputId": "75827af7-024c-4bc1-f498-da9f928120cd"
      },
      "execution_count": 41,
      "outputs": [
        {
          "output_type": "stream",
          "name": "stdout",
          "text": [
            "Downloading from https://www.kaggle.com/api/v1/datasets/download/joebeachcapital/realwaste?dataset_version_number=1...\n"
          ]
        },
        {
          "output_type": "stream",
          "name": "stderr",
          "text": [
            "100%|██████████| 657M/657M [00:09<00:00, 71.6MB/s]"
          ]
        },
        {
          "output_type": "stream",
          "name": "stdout",
          "text": [
            "Extracting files...\n"
          ]
        },
        {
          "output_type": "stream",
          "name": "stderr",
          "text": [
            "\n"
          ]
        },
        {
          "output_type": "stream",
          "name": "stdout",
          "text": [
            "Path to dataset files: /root/.cache/kagglehub/datasets/joebeachcapital/realwaste/versions/1\n"
          ]
        }
      ]
    },
    {
      "cell_type": "code",
      "source": [
        "!ls /root/.cache/kagglehub/datasets/joebeachcapital/realwaste/versions/1/realwaste-main/RealWaste/"
      ],
      "metadata": {
        "colab": {
          "base_uri": "https://localhost:8080/"
        },
        "id": "37E1nr8-72c4",
        "outputId": "df7e5a51-5afa-498e-f649-bffd625d82c8"
      },
      "execution_count": 45,
      "outputs": [
        {
          "output_type": "stream",
          "name": "stdout",
          "text": [
            " Cardboard\t  Glass  'Miscellaneous Trash'\t Plastic\t  Vegetation\n",
            "'Food Organics'   Metal   Paper\t\t\t'Textile Trash'\n"
          ]
        }
      ]
    },
    {
      "cell_type": "markdown",
      "source": [
        "Show directory tree"
      ],
      "metadata": {
        "id": "of2TWdqofglL"
      }
    },
    {
      "cell_type": "code",
      "source": [
        "from pathlib import Path\n",
        "\n",
        "def print_directory_tree(root: Path, prefix: str = \"\"):\n",
        "    \"\"\"\n",
        "    Mencetak struktur direktori dengan tampilan seperti pohon.\n",
        "    Hanya menampilkan folder (tanpa file).\n",
        "    \"\"\"\n",
        "    subdirs = sorted([p for p in root.iterdir() if p.is_dir()])\n",
        "    for i, subdir in enumerate(subdirs):\n",
        "        connector = \"└── \" if i == len(subdirs) - 1 else \"├── \"\n",
        "        print(f\"{prefix}{connector}{subdir.name}\")\n",
        "        extension = \"    \" if i == len(subdirs) - 1 else \"│   \"\n",
        "        print_directory_tree(subdir, prefix + extension)\n",
        "\n",
        "# Path ke folder utama\n",
        "alistair_path = Path(alistair_ds) / \"images\" / \"images\"\n",
        "mostafa_path = Path(mostafa_ds) / \"garbage_classification\"\n",
        "joe_path = Path(joe_ds) / \"realwaste-main\" / \"RealWaste\"\n",
        "\n",
        "# Cetak pohon direktori\n",
        "print(alistair_path.name)\n",
        "print_directory_tree(alistair_path)\n",
        "\n",
        "print(mostafa_path.name)\n",
        "print_directory_tree(mostafa_path)\n",
        "\n",
        "print(joe_path.name)\n",
        "print_directory_tree(joe_path)\n"
      ],
      "metadata": {
        "id": "tI9mimjhfgJE",
        "outputId": "048818e3-a590-439a-ab42-1f195f8160ab",
        "colab": {
          "base_uri": "https://localhost:8080/"
        }
      },
      "execution_count": 47,
      "outputs": [
        {
          "output_type": "stream",
          "name": "stdout",
          "text": [
            "images\n",
            "├── aerosol_cans\n",
            "│   ├── default\n",
            "│   └── real_world\n",
            "├── aluminum_food_cans\n",
            "│   ├── default\n",
            "│   └── real_world\n",
            "├── aluminum_soda_cans\n",
            "│   ├── default\n",
            "│   └── real_world\n",
            "├── cardboard_boxes\n",
            "│   ├── default\n",
            "│   └── real_world\n",
            "├── cardboard_packaging\n",
            "│   ├── default\n",
            "│   └── real_world\n",
            "├── clothing\n",
            "│   ├── default\n",
            "│   └── real_world\n",
            "├── coffee_grounds\n",
            "│   ├── default\n",
            "│   └── real_world\n",
            "├── disposable_plastic_cutlery\n",
            "│   ├── default\n",
            "│   └── real_world\n",
            "├── eggshells\n",
            "│   ├── default\n",
            "│   └── real_world\n",
            "├── food_waste\n",
            "│   ├── default\n",
            "│   └── real_world\n",
            "├── glass_beverage_bottles\n",
            "│   ├── default\n",
            "│   └── real_world\n",
            "├── glass_cosmetic_containers\n",
            "│   ├── default\n",
            "│   └── real_world\n",
            "├── glass_food_jars\n",
            "│   ├── default\n",
            "│   └── real_world\n",
            "├── magazines\n",
            "│   ├── default\n",
            "│   └── real_world\n",
            "├── newspaper\n",
            "│   ├── default\n",
            "│   └── real_world\n",
            "├── office_paper\n",
            "│   ├── default\n",
            "│   └── real_world\n",
            "├── paper_cups\n",
            "│   ├── default\n",
            "│   └── real_world\n",
            "├── plastic_cup_lids\n",
            "│   ├── default\n",
            "│   └── real_world\n",
            "├── plastic_detergent_bottles\n",
            "│   ├── default\n",
            "│   └── real_world\n",
            "├── plastic_food_containers\n",
            "│   ├── default\n",
            "│   └── real_world\n",
            "├── plastic_shopping_bags\n",
            "│   ├── default\n",
            "│   └── real_world\n",
            "├── plastic_soda_bottles\n",
            "│   ├── default\n",
            "│   └── real_world\n",
            "├── plastic_straws\n",
            "│   ├── default\n",
            "│   └── real_world\n",
            "├── plastic_trash_bags\n",
            "│   ├── default\n",
            "│   └── real_world\n",
            "├── plastic_water_bottles\n",
            "│   ├── default\n",
            "│   └── real_world\n",
            "├── shoes\n",
            "│   ├── default\n",
            "│   └── real_world\n",
            "├── steel_food_cans\n",
            "│   ├── default\n",
            "│   └── real_world\n",
            "├── styrofoam_cups\n",
            "│   ├── default\n",
            "│   └── real_world\n",
            "├── styrofoam_food_containers\n",
            "│   ├── default\n",
            "│   └── real_world\n",
            "└── tea_bags\n",
            "    ├── default\n",
            "    └── real_world\n",
            "garbage_classification\n",
            "├── battery\n",
            "├── biological\n",
            "├── brown-glass\n",
            "├── cardboard\n",
            "├── clothes\n",
            "├── green-glass\n",
            "├── metal\n",
            "├── paper\n",
            "├── plastic\n",
            "├── shoes\n",
            "├── trash\n",
            "└── white-glass\n",
            "RealWaste\n",
            "├── Cardboard\n",
            "├── Food Organics\n",
            "├── Glass\n",
            "├── Metal\n",
            "├── Miscellaneous Trash\n",
            "├── Paper\n",
            "├── Plastic\n",
            "├── Textile Trash\n",
            "└── Vegetation\n"
          ]
        }
      ]
    },
    {
      "cell_type": "markdown",
      "source": [
        "### Copy Dataset"
      ],
      "metadata": {
        "id": "OC657aDaFl7S"
      }
    },
    {
      "cell_type": "code",
      "source": [
        "from pathlib import Path\n",
        "import shutil\n",
        "import random\n",
        "\n",
        "def copy_n_files(src_dir, dst_dir, n, randomize=False):\n",
        "    src_path = Path(src_dir)\n",
        "    dst_path = Path(dst_dir)\n",
        "\n",
        "    # Buat folder tujuan jika belum ada\n",
        "    dst_path.mkdir(parents=True, exist_ok=True)\n",
        "\n",
        "    # Ambil semua file dari direktori sumber\n",
        "    all_files = [f for f in src_path.iterdir() if f.is_file()]\n",
        "\n",
        "    # Pastikan n tidak lebih besar dari jumlah file\n",
        "    n = min(n, len(all_files))\n",
        "\n",
        "    # Tentukan file mana yang akan disalin\n",
        "    if randomize:\n",
        "        files_to_copy = random.sample(all_files, n)\n",
        "    else:\n",
        "        files_to_copy = sorted(all_files)[:n]\n",
        "\n",
        "    # Copy file satu per satu\n",
        "    for file in files_to_copy:\n",
        "        shutil.copy(file, dst_path)\n",
        "        print(f\"Copied: {file.name}\")\n",
        "\n",
        "    print(f\"\\nTotal {n} files copied from '{src_dir}' to '{dst_dir}' (random: {randomize}).\")\n"
      ],
      "metadata": {
        "id": "wocD3w5HFks7"
      },
      "execution_count": 21,
      "outputs": []
    },
    {
      "cell_type": "markdown",
      "source": [
        "#### Customize Alistair Dataset"
      ],
      "metadata": {
        "id": "UI9l1d2avRO4"
      }
    },
    {
      "cell_type": "code",
      "source": [
        "from pathlib import Path\n",
        "import shutil\n",
        "from tqdm import tqdm\n",
        "\n",
        "source_root = alistair_path\n",
        "target_root = Path(\"dataset/train\")\n",
        "target_root.mkdir(parents=True, exist_ok=True)\n",
        "\n",
        "class_map = {\n",
        "    \"food_waste\": \"organic\",\n",
        "    \"eggshells\": \"organic\",\n",
        "    \"coffee_grounds\": \"organic\",\n",
        "    \"tea_bags\": \"organic\",\n",
        "    \"plastic_soda_bottles\": \"plastic\",\n",
        "    \"plastic_trash_bags\": \"plastic\",\n",
        "    \"plastic_food_containers\": \"plastic\",\n",
        "    \"plastic_shopping_bags\": \"plastic\",\n",
        "    \"plastic_straws\": \"plastic\",\n",
        "    \"plastic_water_bottles\": \"plastic\",\n",
        "    \"plastic_detergent_bottles\": \"plastic\",\n",
        "    \"plastic_cup_lids\": \"plastic\",\n",
        "    \"glass_food_jars\": \"glass\",\n",
        "    \"glass_beverage_bottles\": \"glass\",\n",
        "    \"glass_cosmetic_containers\": \"glass\",\n",
        "    \"aluminum_soda_cans\": \"metal\",\n",
        "    \"aluminum_food_cans\": \"metal\",\n",
        "    \"steel_food_cans\": \"metal\",\n",
        "    \"aerosol_cans\": \"metal\",\n",
        "    \"cardboard_boxes\": \"paper\",\n",
        "    \"cardboard_packaging\": \"paper\",\n",
        "    \"magazines\": \"paper\",\n",
        "    \"newspaper\": \"paper\",\n",
        "    \"office_paper\": \"paper\",\n",
        "    \"paper_cups\": \"paper\",\n",
        "    \"styrofoam_cups\": \"styrofoam\",\n",
        "    \"styrofoam_food_containers\": \"styrofoam\",\n",
        "    \"clothing\": \"textiles\",\n",
        "    \"shoes\": \"textiles\"\n",
        "}\n",
        "\n",
        "print(\"🚀 Memulai pengelompokan dataset dengan penamaan ulang...\\n\")\n",
        "\n",
        "for class_name, parent_class in class_map.items():\n",
        "    for subset in [\"default\", \"real_world\"]:\n",
        "        class_dir = source_root / class_name / subset\n",
        "        if class_dir.exists():\n",
        "            img_list = list(class_dir.glob(\"*.*\"))\n",
        "            print(f\"📁 Menyalin {len(img_list)} gambar dari '{class_name}/{subset}' ke '{parent_class}'\")\n",
        "            for i, img in enumerate(tqdm(img_list, desc=f\"{class_name}/{subset}\", leave=False)):\n",
        "                dest_dir = target_root / parent_class\n",
        "                dest_dir.mkdir(parents=True, exist_ok=True)\n",
        "\n",
        "                # Penamaan ulang\n",
        "                ext = img.suffix\n",
        "                new_name = f\"{subset}_{class_name}_{i:04d}{ext}\"\n",
        "                shutil.copy(img, dest_dir / new_name)\n",
        "\n",
        "print(\"\\n✅ Pengelompokan selesai tanpa konflik penamaan.\")\n",
        "print(\"📂 Dataset tersimpan di:\", target_root.resolve())\n"
      ],
      "metadata": {
        "colab": {
          "base_uri": "https://localhost:8080/"
        },
        "id": "kA5K6m3NvLHI",
        "outputId": "6406833b-ef34-4bac-a1ba-fa03001a7dcf"
      },
      "execution_count": 34,
      "outputs": [
        {
          "output_type": "stream",
          "name": "stdout",
          "text": [
            "🚀 Memulai pengelompokan dataset dengan penamaan ulang...\n",
            "\n",
            "📁 Menyalin 250 gambar dari 'food_waste/default' ke 'organic'\n"
          ]
        },
        {
          "output_type": "stream",
          "name": "stderr",
          "text": []
        },
        {
          "output_type": "stream",
          "name": "stdout",
          "text": [
            "📁 Menyalin 250 gambar dari 'food_waste/real_world' ke 'organic'\n"
          ]
        },
        {
          "output_type": "stream",
          "name": "stderr",
          "text": []
        },
        {
          "output_type": "stream",
          "name": "stdout",
          "text": [
            "📁 Menyalin 250 gambar dari 'eggshells/default' ke 'organic'\n"
          ]
        },
        {
          "output_type": "stream",
          "name": "stderr",
          "text": []
        },
        {
          "output_type": "stream",
          "name": "stdout",
          "text": [
            "📁 Menyalin 250 gambar dari 'eggshells/real_world' ke 'organic'\n"
          ]
        },
        {
          "output_type": "stream",
          "name": "stderr",
          "text": []
        },
        {
          "output_type": "stream",
          "name": "stdout",
          "text": [
            "📁 Menyalin 250 gambar dari 'coffee_grounds/default' ke 'organic'\n"
          ]
        },
        {
          "output_type": "stream",
          "name": "stderr",
          "text": []
        },
        {
          "output_type": "stream",
          "name": "stdout",
          "text": [
            "📁 Menyalin 250 gambar dari 'coffee_grounds/real_world' ke 'organic'\n"
          ]
        },
        {
          "output_type": "stream",
          "name": "stderr",
          "text": []
        },
        {
          "output_type": "stream",
          "name": "stdout",
          "text": [
            "📁 Menyalin 250 gambar dari 'tea_bags/default' ke 'organic'\n"
          ]
        },
        {
          "output_type": "stream",
          "name": "stderr",
          "text": []
        },
        {
          "output_type": "stream",
          "name": "stdout",
          "text": [
            "📁 Menyalin 250 gambar dari 'tea_bags/real_world' ke 'organic'\n"
          ]
        },
        {
          "output_type": "stream",
          "name": "stderr",
          "text": []
        },
        {
          "output_type": "stream",
          "name": "stdout",
          "text": [
            "📁 Menyalin 250 gambar dari 'plastic_soda_bottles/default' ke 'plastic'\n"
          ]
        },
        {
          "output_type": "stream",
          "name": "stderr",
          "text": []
        },
        {
          "output_type": "stream",
          "name": "stdout",
          "text": [
            "📁 Menyalin 250 gambar dari 'plastic_soda_bottles/real_world' ke 'plastic'\n"
          ]
        },
        {
          "output_type": "stream",
          "name": "stderr",
          "text": []
        },
        {
          "output_type": "stream",
          "name": "stdout",
          "text": [
            "📁 Menyalin 250 gambar dari 'plastic_trash_bags/default' ke 'plastic'\n"
          ]
        },
        {
          "output_type": "stream",
          "name": "stderr",
          "text": []
        },
        {
          "output_type": "stream",
          "name": "stdout",
          "text": [
            "📁 Menyalin 250 gambar dari 'plastic_trash_bags/real_world' ke 'plastic'\n"
          ]
        },
        {
          "output_type": "stream",
          "name": "stderr",
          "text": []
        },
        {
          "output_type": "stream",
          "name": "stdout",
          "text": [
            "📁 Menyalin 250 gambar dari 'plastic_food_containers/default' ke 'plastic'\n"
          ]
        },
        {
          "output_type": "stream",
          "name": "stderr",
          "text": []
        },
        {
          "output_type": "stream",
          "name": "stdout",
          "text": [
            "📁 Menyalin 250 gambar dari 'plastic_food_containers/real_world' ke 'plastic'\n"
          ]
        },
        {
          "output_type": "stream",
          "name": "stderr",
          "text": []
        },
        {
          "output_type": "stream",
          "name": "stdout",
          "text": [
            "📁 Menyalin 250 gambar dari 'plastic_shopping_bags/default' ke 'plastic'\n"
          ]
        },
        {
          "output_type": "stream",
          "name": "stderr",
          "text": []
        },
        {
          "output_type": "stream",
          "name": "stdout",
          "text": [
            "📁 Menyalin 250 gambar dari 'plastic_shopping_bags/real_world' ke 'plastic'\n"
          ]
        },
        {
          "output_type": "stream",
          "name": "stderr",
          "text": []
        },
        {
          "output_type": "stream",
          "name": "stdout",
          "text": [
            "📁 Menyalin 250 gambar dari 'plastic_straws/default' ke 'plastic'\n"
          ]
        },
        {
          "output_type": "stream",
          "name": "stderr",
          "text": []
        },
        {
          "output_type": "stream",
          "name": "stdout",
          "text": [
            "📁 Menyalin 250 gambar dari 'plastic_straws/real_world' ke 'plastic'\n"
          ]
        },
        {
          "output_type": "stream",
          "name": "stderr",
          "text": []
        },
        {
          "output_type": "stream",
          "name": "stdout",
          "text": [
            "📁 Menyalin 250 gambar dari 'plastic_water_bottles/default' ke 'plastic'\n"
          ]
        },
        {
          "output_type": "stream",
          "name": "stderr",
          "text": []
        },
        {
          "output_type": "stream",
          "name": "stdout",
          "text": [
            "📁 Menyalin 250 gambar dari 'plastic_water_bottles/real_world' ke 'plastic'\n"
          ]
        },
        {
          "output_type": "stream",
          "name": "stderr",
          "text": []
        },
        {
          "output_type": "stream",
          "name": "stdout",
          "text": [
            "📁 Menyalin 250 gambar dari 'plastic_detergent_bottles/default' ke 'plastic'\n"
          ]
        },
        {
          "output_type": "stream",
          "name": "stderr",
          "text": []
        },
        {
          "output_type": "stream",
          "name": "stdout",
          "text": [
            "📁 Menyalin 250 gambar dari 'plastic_detergent_bottles/real_world' ke 'plastic'\n"
          ]
        },
        {
          "output_type": "stream",
          "name": "stderr",
          "text": []
        },
        {
          "output_type": "stream",
          "name": "stdout",
          "text": [
            "📁 Menyalin 250 gambar dari 'plastic_cup_lids/default' ke 'plastic'\n"
          ]
        },
        {
          "output_type": "stream",
          "name": "stderr",
          "text": []
        },
        {
          "output_type": "stream",
          "name": "stdout",
          "text": [
            "📁 Menyalin 250 gambar dari 'plastic_cup_lids/real_world' ke 'plastic'\n"
          ]
        },
        {
          "output_type": "stream",
          "name": "stderr",
          "text": []
        },
        {
          "output_type": "stream",
          "name": "stdout",
          "text": [
            "📁 Menyalin 250 gambar dari 'glass_food_jars/default' ke 'glass'\n"
          ]
        },
        {
          "output_type": "stream",
          "name": "stderr",
          "text": []
        },
        {
          "output_type": "stream",
          "name": "stdout",
          "text": [
            "📁 Menyalin 250 gambar dari 'glass_food_jars/real_world' ke 'glass'\n"
          ]
        },
        {
          "output_type": "stream",
          "name": "stderr",
          "text": []
        },
        {
          "output_type": "stream",
          "name": "stdout",
          "text": [
            "📁 Menyalin 250 gambar dari 'glass_beverage_bottles/default' ke 'glass'\n"
          ]
        },
        {
          "output_type": "stream",
          "name": "stderr",
          "text": []
        },
        {
          "output_type": "stream",
          "name": "stdout",
          "text": [
            "📁 Menyalin 250 gambar dari 'glass_beverage_bottles/real_world' ke 'glass'\n"
          ]
        },
        {
          "output_type": "stream",
          "name": "stderr",
          "text": []
        },
        {
          "output_type": "stream",
          "name": "stdout",
          "text": [
            "📁 Menyalin 250 gambar dari 'glass_cosmetic_containers/default' ke 'glass'\n"
          ]
        },
        {
          "output_type": "stream",
          "name": "stderr",
          "text": []
        },
        {
          "output_type": "stream",
          "name": "stdout",
          "text": [
            "📁 Menyalin 250 gambar dari 'glass_cosmetic_containers/real_world' ke 'glass'\n"
          ]
        },
        {
          "output_type": "stream",
          "name": "stderr",
          "text": []
        },
        {
          "output_type": "stream",
          "name": "stdout",
          "text": [
            "📁 Menyalin 250 gambar dari 'aluminum_soda_cans/default' ke 'metal'\n"
          ]
        },
        {
          "output_type": "stream",
          "name": "stderr",
          "text": []
        },
        {
          "output_type": "stream",
          "name": "stdout",
          "text": [
            "📁 Menyalin 250 gambar dari 'aluminum_soda_cans/real_world' ke 'metal'\n"
          ]
        },
        {
          "output_type": "stream",
          "name": "stderr",
          "text": []
        },
        {
          "output_type": "stream",
          "name": "stdout",
          "text": [
            "📁 Menyalin 250 gambar dari 'aluminum_food_cans/default' ke 'metal'\n"
          ]
        },
        {
          "output_type": "stream",
          "name": "stderr",
          "text": []
        },
        {
          "output_type": "stream",
          "name": "stdout",
          "text": [
            "📁 Menyalin 250 gambar dari 'aluminum_food_cans/real_world' ke 'metal'\n"
          ]
        },
        {
          "output_type": "stream",
          "name": "stderr",
          "text": []
        },
        {
          "output_type": "stream",
          "name": "stdout",
          "text": [
            "📁 Menyalin 250 gambar dari 'steel_food_cans/default' ke 'metal'\n"
          ]
        },
        {
          "output_type": "stream",
          "name": "stderr",
          "text": []
        },
        {
          "output_type": "stream",
          "name": "stdout",
          "text": [
            "📁 Menyalin 250 gambar dari 'steel_food_cans/real_world' ke 'metal'\n"
          ]
        },
        {
          "output_type": "stream",
          "name": "stderr",
          "text": []
        },
        {
          "output_type": "stream",
          "name": "stdout",
          "text": [
            "📁 Menyalin 250 gambar dari 'aerosol_cans/default' ke 'metal'\n"
          ]
        },
        {
          "output_type": "stream",
          "name": "stderr",
          "text": []
        },
        {
          "output_type": "stream",
          "name": "stdout",
          "text": [
            "📁 Menyalin 250 gambar dari 'aerosol_cans/real_world' ke 'metal'\n"
          ]
        },
        {
          "output_type": "stream",
          "name": "stderr",
          "text": []
        },
        {
          "output_type": "stream",
          "name": "stdout",
          "text": [
            "📁 Menyalin 250 gambar dari 'cardboard_boxes/default' ke 'paper'\n"
          ]
        },
        {
          "output_type": "stream",
          "name": "stderr",
          "text": []
        },
        {
          "output_type": "stream",
          "name": "stdout",
          "text": [
            "📁 Menyalin 250 gambar dari 'cardboard_boxes/real_world' ke 'paper'\n"
          ]
        },
        {
          "output_type": "stream",
          "name": "stderr",
          "text": []
        },
        {
          "output_type": "stream",
          "name": "stdout",
          "text": [
            "📁 Menyalin 250 gambar dari 'cardboard_packaging/default' ke 'paper'\n"
          ]
        },
        {
          "output_type": "stream",
          "name": "stderr",
          "text": []
        },
        {
          "output_type": "stream",
          "name": "stdout",
          "text": [
            "📁 Menyalin 250 gambar dari 'cardboard_packaging/real_world' ke 'paper'\n"
          ]
        },
        {
          "output_type": "stream",
          "name": "stderr",
          "text": []
        },
        {
          "output_type": "stream",
          "name": "stdout",
          "text": [
            "📁 Menyalin 250 gambar dari 'magazines/default' ke 'paper'\n"
          ]
        },
        {
          "output_type": "stream",
          "name": "stderr",
          "text": []
        },
        {
          "output_type": "stream",
          "name": "stdout",
          "text": [
            "📁 Menyalin 250 gambar dari 'magazines/real_world' ke 'paper'\n"
          ]
        },
        {
          "output_type": "stream",
          "name": "stderr",
          "text": []
        },
        {
          "output_type": "stream",
          "name": "stdout",
          "text": [
            "📁 Menyalin 250 gambar dari 'newspaper/default' ke 'paper'\n"
          ]
        },
        {
          "output_type": "stream",
          "name": "stderr",
          "text": []
        },
        {
          "output_type": "stream",
          "name": "stdout",
          "text": [
            "📁 Menyalin 250 gambar dari 'newspaper/real_world' ke 'paper'\n"
          ]
        },
        {
          "output_type": "stream",
          "name": "stderr",
          "text": []
        },
        {
          "output_type": "stream",
          "name": "stdout",
          "text": [
            "📁 Menyalin 250 gambar dari 'office_paper/default' ke 'paper'\n"
          ]
        },
        {
          "output_type": "stream",
          "name": "stderr",
          "text": []
        },
        {
          "output_type": "stream",
          "name": "stdout",
          "text": [
            "📁 Menyalin 250 gambar dari 'office_paper/real_world' ke 'paper'\n"
          ]
        },
        {
          "output_type": "stream",
          "name": "stderr",
          "text": []
        },
        {
          "output_type": "stream",
          "name": "stdout",
          "text": [
            "📁 Menyalin 250 gambar dari 'paper_cups/default' ke 'paper'\n"
          ]
        },
        {
          "output_type": "stream",
          "name": "stderr",
          "text": []
        },
        {
          "output_type": "stream",
          "name": "stdout",
          "text": [
            "📁 Menyalin 250 gambar dari 'paper_cups/real_world' ke 'paper'\n"
          ]
        },
        {
          "output_type": "stream",
          "name": "stderr",
          "text": []
        },
        {
          "output_type": "stream",
          "name": "stdout",
          "text": [
            "📁 Menyalin 250 gambar dari 'styrofoam_cups/default' ke 'styrofoam'\n"
          ]
        },
        {
          "output_type": "stream",
          "name": "stderr",
          "text": []
        },
        {
          "output_type": "stream",
          "name": "stdout",
          "text": [
            "📁 Menyalin 250 gambar dari 'styrofoam_cups/real_world' ke 'styrofoam'\n"
          ]
        },
        {
          "output_type": "stream",
          "name": "stderr",
          "text": []
        },
        {
          "output_type": "stream",
          "name": "stdout",
          "text": [
            "📁 Menyalin 250 gambar dari 'styrofoam_food_containers/default' ke 'styrofoam'\n"
          ]
        },
        {
          "output_type": "stream",
          "name": "stderr",
          "text": []
        },
        {
          "output_type": "stream",
          "name": "stdout",
          "text": [
            "📁 Menyalin 250 gambar dari 'styrofoam_food_containers/real_world' ke 'styrofoam'\n"
          ]
        },
        {
          "output_type": "stream",
          "name": "stderr",
          "text": []
        },
        {
          "output_type": "stream",
          "name": "stdout",
          "text": [
            "📁 Menyalin 250 gambar dari 'clothing/default' ke 'textiles'\n"
          ]
        },
        {
          "output_type": "stream",
          "name": "stderr",
          "text": []
        },
        {
          "output_type": "stream",
          "name": "stdout",
          "text": [
            "📁 Menyalin 250 gambar dari 'clothing/real_world' ke 'textiles'\n"
          ]
        },
        {
          "output_type": "stream",
          "name": "stderr",
          "text": []
        },
        {
          "output_type": "stream",
          "name": "stdout",
          "text": [
            "📁 Menyalin 250 gambar dari 'shoes/default' ke 'textiles'\n"
          ]
        },
        {
          "output_type": "stream",
          "name": "stderr",
          "text": []
        },
        {
          "output_type": "stream",
          "name": "stdout",
          "text": [
            "📁 Menyalin 250 gambar dari 'shoes/real_world' ke 'textiles'\n"
          ]
        },
        {
          "output_type": "stream",
          "name": "stderr",
          "text": [
            "                                                                     "
          ]
        },
        {
          "output_type": "stream",
          "name": "stdout",
          "text": [
            "\n",
            "✅ Pengelompokan selesai tanpa konflik penamaan.\n",
            "📂 Dataset tersimpan di: /content/dataset/train\n"
          ]
        },
        {
          "output_type": "stream",
          "name": "stderr",
          "text": [
            "\r"
          ]
        }
      ]
    },
    {
      "cell_type": "code",
      "source": [
        "# copy_n_files(f\"{mostafa_ds}/garbage_classification/paper\", \"dataset/train/paper\", 500, randomize=True)\n",
        "# copy_n_files(f\"{mostafa_ds}/garbage_classification/cardboard\", \"dataset/train/paper\", 500, randomize=True)\n",
        "\n",
        "# copy_n_files(f\"{mostafa_ds}/garbage_classification/white-glass\", \"dataset/train/glass\", 600, randomize=True)\n",
        "# copy_n_files(f\"{mostafa_ds}/garbage_classification/brown-glass\", \"dataset/train/glass\", 600, randomize=True)\n",
        "# copy_n_files(f\"{mostafa_ds}/garbage_classification/green-glass\", \"dataset/train/glass\", 600, randomize=True)\n",
        "\n",
        "# copy_n_files(f\"{mostafa_ds}/garbage_classification/clothes\", \"dataset/train/textiles\", 1500, randomize=True)\n",
        "# copy_n_files(f\"{mostafa_ds}/garbage_classification/shoes\", \"dataset/train/textiles\", 1500, randomize=True)\n",
        "\n",
        "# copy_n_files(f\"{mostafa_ds}/garbage_classification/metal\", \"dataset/train/metal\", 750, randomize=True)\n",
        "# copy_n_files(f\"{joe_ds}/realwaste-main/RealWaste/Metal\", \"dataset/train/metal\", 750, randomize=True)\n"
      ],
      "metadata": {
        "colab": {
          "base_uri": "https://localhost:8080/"
        },
        "id": "eDJbvgChFdWQ",
        "outputId": "19322da2-b66e-4651-cce6-c36e2d8674f2",
        "collapsed": true
      },
      "execution_count": 48,
      "outputs": [
        {
          "output_type": "stream",
          "name": "stdout",
          "text": [
            "Copied: Metal_260.jpg\n",
            "Copied: Metal_401.jpg\n",
            "Copied: Metal_43.jpg\n",
            "Copied: Metal_208.jpg\n",
            "Copied: Metal_47.jpg\n",
            "Copied: Metal_489.jpg\n",
            "Copied: Metal_69.jpg\n",
            "Copied: Metal_63.jpg\n",
            "Copied: Metal_481.jpg\n",
            "Copied: Metal_692.jpg\n",
            "Copied: Metal_175.jpg\n",
            "Copied: Metal_441.jpg\n",
            "Copied: Metal_27.jpg\n",
            "Copied: Metal_378.jpg\n",
            "Copied: Metal_686.jpg\n",
            "Copied: Metal_279.jpg\n",
            "Copied: Metal_761.jpg\n",
            "Copied: Metal_215.jpg\n",
            "Copied: Metal_250.jpg\n",
            "Copied: Metal_413.jpg\n",
            "Copied: Metal_254.jpg\n",
            "Copied: Metal_528.jpg\n",
            "Copied: Metal_161.jpg\n",
            "Copied: Metal_645.jpg\n",
            "Copied: Metal_28.jpg\n",
            "Copied: Metal_141.jpg\n",
            "Copied: Metal_308.jpg\n",
            "Copied: Metal_530.jpg\n",
            "Copied: Metal_558.jpg\n",
            "Copied: Metal_30.jpg\n",
            "Copied: Metal_475.jpg\n",
            "Copied: Metal_191.jpg\n",
            "Copied: Metal_134.jpg\n",
            "Copied: Metal_405.jpg\n",
            "Copied: Metal_120.jpg\n",
            "Copied: Metal_242.jpg\n",
            "Copied: Metal_87.jpg\n",
            "Copied: Metal_165.jpg\n",
            "Copied: Metal_79.jpg\n",
            "Copied: Metal_669.jpg\n",
            "Copied: Metal_2.jpg\n",
            "Copied: Metal_615.jpg\n",
            "Copied: Metal_299.jpg\n",
            "Copied: Metal_286.jpg\n",
            "Copied: Metal_765.jpg\n",
            "Copied: Metal_243.jpg\n",
            "Copied: Metal_284.jpg\n",
            "Copied: Metal_514.jpg\n",
            "Copied: Metal_526.jpg\n",
            "Copied: Metal_495.jpg\n",
            "Copied: Metal_638.jpg\n",
            "Copied: Metal_74.jpg\n",
            "Copied: Metal_71.jpg\n",
            "Copied: Metal_553.jpg\n",
            "Copied: Metal_41.jpg\n",
            "Copied: Metal_762.jpg\n",
            "Copied: Metal_657.jpg\n",
            "Copied: Metal_780.jpg\n",
            "Copied: Metal_322.jpg\n",
            "Copied: Metal_626.jpg\n",
            "Copied: Metal_431.jpg\n",
            "Copied: Metal_29.jpg\n",
            "Copied: Metal_579.jpg\n",
            "Copied: Metal_571.jpg\n",
            "Copied: Metal_187.jpg\n",
            "Copied: Metal_625.jpg\n",
            "Copied: Metal_154.jpg\n",
            "Copied: Metal_630.jpg\n",
            "Copied: Metal_381.jpg\n",
            "Copied: Metal_95.jpg\n",
            "Copied: Metal_127.jpg\n",
            "Copied: Metal_547.jpg\n",
            "Copied: Metal_491.jpg\n",
            "Copied: Metal_673.jpg\n",
            "Copied: Metal_234.jpg\n",
            "Copied: Metal_365.jpg\n",
            "Copied: Metal_323.jpg\n",
            "Copied: Metal_677.jpg\n",
            "Copied: Metal_347.jpg\n",
            "Copied: Metal_783.jpg\n",
            "Copied: Metal_23.jpg\n",
            "Copied: Metal_374.jpg\n",
            "Copied: Metal_532.jpg\n",
            "Copied: Metal_244.jpg\n",
            "Copied: Metal_326.jpg\n",
            "Copied: Metal_68.jpg\n",
            "Copied: Metal_142.jpg\n",
            "Copied: Metal_517.jpg\n",
            "Copied: Metal_212.jpg\n",
            "Copied: Metal_687.jpg\n",
            "Copied: Metal_314.jpg\n",
            "Copied: Metal_86.jpg\n",
            "Copied: Metal_179.jpg\n",
            "Copied: Metal_667.jpg\n",
            "Copied: Metal_111.jpg\n",
            "Copied: Metal_684.jpg\n",
            "Copied: Metal_400.jpg\n",
            "Copied: Metal_738.jpg\n",
            "Copied: Metal_659.jpg\n",
            "Copied: Metal_688.jpg\n",
            "Copied: Metal_472.jpg\n",
            "Copied: Metal_691.jpg\n",
            "Copied: Metal_568.jpg\n",
            "Copied: Metal_386.jpg\n",
            "Copied: Metal_295.jpg\n",
            "Copied: Metal_739.jpg\n",
            "Copied: Metal_620.jpg\n",
            "Copied: Metal_96.jpg\n",
            "Copied: Metal_735.jpg\n",
            "Copied: Metal_545.jpg\n",
            "Copied: Metal_675.jpg\n",
            "Copied: Metal_131.jpg\n",
            "Copied: Metal_109.jpg\n",
            "Copied: Metal_771.jpg\n",
            "Copied: Metal_485.jpg\n",
            "Copied: Metal_316.jpg\n",
            "Copied: Metal_715.jpg\n",
            "Copied: Metal_145.jpg\n",
            "Copied: Metal_520.jpg\n",
            "Copied: Metal_756.jpg\n",
            "Copied: Metal_589.jpg\n",
            "Copied: Metal_357.jpg\n",
            "Copied: Metal_255.jpg\n",
            "Copied: Metal_103.jpg\n",
            "Copied: Metal_248.jpg\n",
            "Copied: Metal_421.jpg\n",
            "Copied: Metal_281.jpg\n",
            "Copied: Metal_265.jpg\n",
            "Copied: Metal_48.jpg\n",
            "Copied: Metal_497.jpg\n",
            "Copied: Metal_375.jpg\n",
            "Copied: Metal_535.jpg\n",
            "Copied: Metal_246.jpg\n",
            "Copied: Metal_309.jpg\n",
            "Copied: Metal_287.jpg\n",
            "Copied: Metal_784.jpg\n",
            "Copied: Metal_647.jpg\n",
            "Copied: Metal_722.jpg\n",
            "Copied: Metal_349.jpg\n",
            "Copied: Metal_617.jpg\n",
            "Copied: Metal_563.jpg\n",
            "Copied: Metal_46.jpg\n",
            "Copied: Metal_527.jpg\n",
            "Copied: Metal_509.jpg\n",
            "Copied: Metal_776.jpg\n",
            "Copied: Metal_740.jpg\n",
            "Copied: Metal_552.jpg\n",
            "Copied: Metal_510.jpg\n",
            "Copied: Metal_506.jpg\n",
            "Copied: Metal_171.jpg\n",
            "Copied: Metal_432.jpg\n",
            "Copied: Metal_268.jpg\n",
            "Copied: Metal_633.jpg\n",
            "Copied: Metal_598.jpg\n",
            "Copied: Metal_225.jpg\n",
            "Copied: Metal_560.jpg\n",
            "Copied: Metal_562.jpg\n",
            "Copied: Metal_148.jpg\n",
            "Copied: Metal_143.jpg\n",
            "Copied: Metal_67.jpg\n",
            "Copied: Metal_264.jpg\n",
            "Copied: Metal_574.jpg\n",
            "Copied: Metal_419.jpg\n",
            "Copied: Metal_112.jpg\n",
            "Copied: Metal_195.jpg\n",
            "Copied: Metal_76.jpg\n",
            "Copied: Metal_462.jpg\n",
            "Copied: Metal_450.jpg\n",
            "Copied: Metal_635.jpg\n",
            "Copied: Metal_220.jpg\n",
            "Copied: Metal_276.jpg\n",
            "Copied: Metal_507.jpg\n",
            "Copied: Metal_345.jpg\n",
            "Copied: Metal_138.jpg\n",
            "Copied: Metal_168.jpg\n",
            "Copied: Metal_150.jpg\n",
            "Copied: Metal_753.jpg\n",
            "Copied: Metal_662.jpg\n",
            "Copied: Metal_680.jpg\n",
            "Copied: Metal_173.jpg\n",
            "Copied: Metal_685.jpg\n",
            "Copied: Metal_181.jpg\n",
            "Copied: Metal_449.jpg\n",
            "Copied: Metal_312.jpg\n",
            "Copied: Metal_252.jpg\n",
            "Copied: Metal_83.jpg\n",
            "Copied: Metal_325.jpg\n",
            "Copied: Metal_736.jpg\n",
            "Copied: Metal_592.jpg\n",
            "Copied: Metal_411.jpg\n",
            "Copied: Metal_10.jpg\n",
            "Copied: Metal_315.jpg\n",
            "Copied: Metal_163.jpg\n",
            "Copied: Metal_644.jpg\n",
            "Copied: Metal_51.jpg\n",
            "Copied: Metal_269.jpg\n",
            "Copied: Metal_200.jpg\n",
            "Copied: Metal_38.jpg\n",
            "Copied: Metal_123.jpg\n",
            "Copied: Metal_436.jpg\n",
            "Copied: Metal_292.jpg\n",
            "Copied: Metal_749.jpg\n",
            "Copied: Metal_646.jpg\n",
            "Copied: Metal_231.jpg\n",
            "Copied: Metal_94.jpg\n",
            "Copied: Metal_291.jpg\n",
            "Copied: Metal_779.jpg\n",
            "Copied: Metal_474.jpg\n",
            "Copied: Metal_409.jpg\n",
            "Copied: Metal_428.jpg\n",
            "Copied: Metal_73.jpg\n",
            "Copied: Metal_21.jpg\n",
            "Copied: Metal_245.jpg\n",
            "Copied: Metal_559.jpg\n",
            "Copied: Metal_467.jpg\n",
            "Copied: Metal_157.jpg\n",
            "Copied: Metal_437.jpg\n",
            "Copied: Metal_366.jpg\n",
            "Copied: Metal_772.jpg\n",
            "Copied: Metal_149.jpg\n",
            "Copied: Metal_601.jpg\n",
            "Copied: Metal_502.jpg\n",
            "Copied: Metal_184.jpg\n",
            "Copied: Metal_519.jpg\n",
            "Copied: Metal_258.jpg\n",
            "Copied: Metal_656.jpg\n",
            "Copied: Metal_484.jpg\n",
            "Copied: Metal_183.jpg\n",
            "Copied: Metal_531.jpg\n",
            "Copied: Metal_730.jpg\n",
            "Copied: Metal_611.jpg\n",
            "Copied: Metal_496.jpg\n",
            "Copied: Metal_106.jpg\n",
            "Copied: Metal_470.jpg\n",
            "Copied: Metal_498.jpg\n",
            "Copied: Metal_363.jpg\n",
            "Copied: Metal_393.jpg\n",
            "Copied: Metal_398.jpg\n",
            "Copied: Metal_712.jpg\n",
            "Copied: Metal_580.jpg\n",
            "Copied: Metal_725.jpg\n",
            "Copied: Metal_654.jpg\n",
            "Copied: Metal_313.jpg\n",
            "Copied: Metal_671.jpg\n",
            "Copied: Metal_271.jpg\n",
            "Copied: Metal_628.jpg\n",
            "Copied: Metal_307.jpg\n",
            "Copied: Metal_512.jpg\n",
            "Copied: Metal_226.jpg\n",
            "Copied: Metal_648.jpg\n",
            "Copied: Metal_78.jpg\n",
            "Copied: Metal_31.jpg\n",
            "Copied: Metal_453.jpg\n",
            "Copied: Metal_77.jpg\n",
            "Copied: Metal_44.jpg\n",
            "Copied: Metal_119.jpg\n",
            "Copied: Metal_406.jpg\n",
            "Copied: Metal_297.jpg\n",
            "Copied: Metal_122.jpg\n",
            "Copied: Metal_93.jpg\n",
            "Copied: Metal_19.jpg\n",
            "Copied: Metal_456.jpg\n",
            "Copied: Metal_85.jpg\n",
            "Copied: Metal_604.jpg\n",
            "Copied: Metal_256.jpg\n",
            "Copied: Metal_257.jpg\n",
            "Copied: Metal_727.jpg\n",
            "Copied: Metal_541.jpg\n",
            "Copied: Metal_18.jpg\n",
            "Copied: Metal_80.jpg\n",
            "Copied: Metal_341.jpg\n",
            "Copied: Metal_425.jpg\n",
            "Copied: Metal_9.jpg\n",
            "Copied: Metal_494.jpg\n",
            "Copied: Metal_764.jpg\n",
            "Copied: Metal_790.jpg\n",
            "Copied: Metal_447.jpg\n",
            "Copied: Metal_333.jpg\n",
            "Copied: Metal_632.jpg\n",
            "Copied: Metal_227.jpg\n",
            "Copied: Metal_235.jpg\n",
            "Copied: Metal_152.jpg\n",
            "Copied: Metal_578.jpg\n",
            "Copied: Metal_661.jpg\n",
            "Copied: Metal_61.jpg\n",
            "Copied: Metal_283.jpg\n",
            "Copied: Metal_755.jpg\n",
            "Copied: Metal_618.jpg\n",
            "Copied: Metal_584.jpg\n",
            "Copied: Metal_609.jpg\n",
            "Copied: Metal_438.jpg\n",
            "Copied: Metal_360.jpg\n",
            "Copied: Metal_576.jpg\n",
            "Copied: Metal_678.jpg\n",
            "Copied: Metal_3.jpg\n",
            "Copied: Metal_189.jpg\n",
            "Copied: Metal_511.jpg\n",
            "Copied: Metal_354.jpg\n",
            "Copied: Metal_721.jpg\n",
            "Copied: Metal_182.jpg\n",
            "Copied: Metal_663.jpg\n",
            "Copied: Metal_681.jpg\n",
            "Copied: Metal_311.jpg\n",
            "Copied: Metal_155.jpg\n",
            "Copied: Metal_696.jpg\n",
            "Copied: Metal_192.jpg\n",
            "Copied: Metal_463.jpg\n",
            "Copied: Metal_210.jpg\n",
            "Copied: Metal_324.jpg\n",
            "Copied: Metal_643.jpg\n",
            "Copied: Metal_230.jpg\n",
            "Copied: Metal_640.jpg\n",
            "Copied: Metal_247.jpg\n",
            "Copied: Metal_355.jpg\n",
            "Copied: Metal_466.jpg\n",
            "Copied: Metal_159.jpg\n",
            "Copied: Metal_444.jpg\n",
            "Copied: Metal_699.jpg\n",
            "Copied: Metal_50.jpg\n",
            "Copied: Metal_566.jpg\n",
            "Copied: Metal_137.jpg\n",
            "Copied: Metal_561.jpg\n",
            "Copied: Metal_650.jpg\n",
            "Copied: Metal_367.jpg\n",
            "Copied: Metal_745.jpg\n",
            "Copied: Metal_16.jpg\n",
            "Copied: Metal_697.jpg\n",
            "Copied: Metal_446.jpg\n",
            "Copied: Metal_766.jpg\n",
            "Copied: Metal_5.jpg\n",
            "Copied: Metal_338.jpg\n",
            "Copied: Metal_454.jpg\n",
            "Copied: Metal_296.jpg\n",
            "Copied: Metal_695.jpg\n",
            "Copied: Metal_652.jpg\n",
            "Copied: Metal_222.jpg\n",
            "Copied: Metal_499.jpg\n",
            "Copied: Metal_224.jpg\n",
            "Copied: Metal_426.jpg\n",
            "Copied: Metal_585.jpg\n",
            "Copied: Metal_655.jpg\n",
            "Copied: Metal_117.jpg\n",
            "Copied: Metal_53.jpg\n",
            "Copied: Metal_158.jpg\n",
            "Copied: Metal_351.jpg\n",
            "Copied: Metal_193.jpg\n",
            "Copied: Metal_420.jpg\n",
            "Copied: Metal_540.jpg\n",
            "Copied: Metal_140.jpg\n",
            "Copied: Metal_136.jpg\n",
            "Copied: Metal_34.jpg\n",
            "Copied: Metal_508.jpg\n",
            "Copied: Metal_336.jpg\n",
            "Copied: Metal_204.jpg\n",
            "Copied: Metal_543.jpg\n",
            "Copied: Metal_164.jpg\n",
            "Copied: Metal_477.jpg\n",
            "Copied: Metal_162.jpg\n",
            "Copied: Metal_373.jpg\n",
            "Copied: Metal_569.jpg\n",
            "Copied: Metal_488.jpg\n",
            "Copied: Metal_623.jpg\n",
            "Copied: Metal_457.jpg\n",
            "Copied: Metal_60.jpg\n",
            "Copied: Metal_641.jpg\n",
            "Copied: Metal_464.jpg\n",
            "Copied: Metal_443.jpg\n",
            "Copied: Metal_293.jpg\n",
            "Copied: Metal_439.jpg\n",
            "Copied: Metal_597.jpg\n",
            "Copied: Metal_361.jpg\n",
            "Copied: Metal_387.jpg\n",
            "Copied: Metal_471.jpg\n",
            "Copied: Metal_614.jpg\n",
            "Copied: Metal_461.jpg\n",
            "Copied: Metal_452.jpg\n",
            "Copied: Metal_102.jpg\n",
            "Copied: Metal_298.jpg\n",
            "Copied: Metal_214.jpg\n",
            "Copied: Metal_705.jpg\n",
            "Copied: Metal_445.jpg\n",
            "Copied: Metal_376.jpg\n",
            "Copied: Metal_789.jpg\n",
            "Copied: Metal_744.jpg\n",
            "Copied: Metal_36.jpg\n",
            "Copied: Metal_372.jpg\n",
            "Copied: Metal_567.jpg\n",
            "Copied: Metal_344.jpg\n",
            "Copied: Metal_389.jpg\n",
            "Copied: Metal_731.jpg\n",
            "Copied: Metal_118.jpg\n",
            "Copied: Metal_418.jpg\n",
            "Copied: Metal_342.jpg\n",
            "Copied: Metal_768.jpg\n",
            "Copied: Metal_702.jpg\n",
            "Copied: Metal_587.jpg\n",
            "Copied: Metal_774.jpg\n",
            "Copied: Metal_129.jpg\n",
            "Copied: Metal_660.jpg\n",
            "Copied: Metal_334.jpg\n",
            "Copied: Metal_653.jpg\n",
            "Copied: Metal_399.jpg\n",
            "Copied: Metal_82.jpg\n",
            "Copied: Metal_70.jpg\n",
            "Copied: Metal_478.jpg\n",
            "Copied: Metal_353.jpg\n",
            "Copied: Metal_602.jpg\n",
            "Copied: Metal_221.jpg\n",
            "Copied: Metal_160.jpg\n",
            "Copied: Metal_619.jpg\n",
            "Copied: Metal_392.jpg\n",
            "Copied: Metal_555.jpg\n",
            "Copied: Metal_480.jpg\n",
            "Copied: Metal_516.jpg\n",
            "Copied: Metal_277.jpg\n",
            "Copied: Metal_542.jpg\n",
            "Copied: Metal_596.jpg\n",
            "Copied: Metal_698.jpg\n",
            "Copied: Metal_52.jpg\n",
            "Copied: Metal_651.jpg\n",
            "Copied: Metal_433.jpg\n",
            "Copied: Metal_216.jpg\n",
            "Copied: Metal_476.jpg\n",
            "Copied: Metal_777.jpg\n",
            "Copied: Metal_211.jpg\n",
            "Copied: Metal_380.jpg\n",
            "Copied: Metal_728.jpg\n",
            "Copied: Metal_448.jpg\n",
            "Copied: Metal_282.jpg\n",
            "Copied: Metal_188.jpg\n",
            "Copied: Metal_40.jpg\n",
            "Copied: Metal_664.jpg\n",
            "Copied: Metal_388.jpg\n",
            "Copied: Metal_518.jpg\n",
            "Copied: Metal_146.jpg\n",
            "Copied: Metal_649.jpg\n",
            "Copied: Metal_708.jpg\n",
            "Copied: Metal_515.jpg\n",
            "Copied: Metal_483.jpg\n",
            "Copied: Metal_767.jpg\n",
            "Copied: Metal_288.jpg\n",
            "Copied: Metal_327.jpg\n",
            "Copied: Metal_591.jpg\n",
            "Copied: Metal_778.jpg\n",
            "Copied: Metal_174.jpg\n",
            "Copied: Metal_194.jpg\n",
            "Copied: Metal_775.jpg\n",
            "Copied: Metal_525.jpg\n",
            "Copied: Metal_13.jpg\n",
            "Copied: Metal_25.jpg\n",
            "Copied: Metal_294.jpg\n",
            "Copied: Metal_668.jpg\n",
            "Copied: Metal_198.jpg\n",
            "Copied: Metal_479.jpg\n",
            "Copied: Metal_595.jpg\n",
            "Copied: Metal_468.jpg\n",
            "Copied: Metal_54.jpg\n",
            "Copied: Metal_177.jpg\n",
            "Copied: Metal_166.jpg\n",
            "Copied: Metal_91.jpg\n",
            "Copied: Metal_710.jpg\n",
            "Copied: Metal_385.jpg\n",
            "Copied: Metal_202.jpg\n",
            "Copied: Metal_572.jpg\n",
            "Copied: Metal_359.jpg\n",
            "Copied: Metal_412.jpg\n",
            "Copied: Metal_434.jpg\n",
            "Copied: Metal_422.jpg\n",
            "Copied: Metal_537.jpg\n",
            "Copied: Metal_751.jpg\n",
            "Copied: Metal_223.jpg\n",
            "Copied: Metal_536.jpg\n",
            "Copied: Metal_629.jpg\n",
            "Copied: Metal_17.jpg\n",
            "Copied: Metal_763.jpg\n",
            "Copied: Metal_546.jpg\n",
            "Copied: Metal_726.jpg\n",
            "Copied: Metal_285.jpg\n",
            "Copied: Metal_676.jpg\n",
            "Copied: Metal_642.jpg\n",
            "Copied: Metal_724.jpg\n",
            "Copied: Metal_758.jpg\n",
            "Copied: Metal_362.jpg\n",
            "Copied: Metal_501.jpg\n",
            "Copied: Metal_603.jpg\n",
            "Copied: Metal_130.jpg\n",
            "Copied: Metal_64.jpg\n",
            "Copied: Metal_717.jpg\n",
            "Copied: Metal_49.jpg\n",
            "Copied: Metal_229.jpg\n",
            "Copied: Metal_704.jpg\n",
            "Copied: Metal_318.jpg\n",
            "Copied: Metal_153.jpg\n",
            "Copied: Metal_415.jpg\n",
            "Copied: Metal_713.jpg\n",
            "Copied: Metal_549.jpg\n",
            "Copied: Metal_239.jpg\n",
            "Copied: Metal_732.jpg\n",
            "Copied: Metal_172.jpg\n",
            "Copied: Metal_33.jpg\n",
            "Copied: Metal_317.jpg\n",
            "Copied: Metal_6.jpg\n",
            "Copied: Metal_251.jpg\n",
            "Copied: Metal_459.jpg\n",
            "Copied: Metal_55.jpg\n",
            "Copied: Metal_58.jpg\n",
            "Copied: Metal_718.jpg\n",
            "Copied: Metal_236.jpg\n",
            "Copied: Metal_533.jpg\n",
            "Copied: Metal_430.jpg\n",
            "Copied: Metal_639.jpg\n",
            "Copied: Metal_352.jpg\n",
            "Copied: Metal_683.jpg\n",
            "Copied: Metal_500.jpg\n",
            "Copied: Metal_88.jpg\n",
            "Copied: Metal_301.jpg\n",
            "Copied: Metal_370.jpg\n",
            "Copied: Metal_534.jpg\n",
            "Copied: Metal_379.jpg\n",
            "Copied: Metal_621.jpg\n",
            "Copied: Metal_319.jpg\n",
            "Copied: Metal_62.jpg\n",
            "Copied: Metal_209.jpg\n",
            "Copied: Metal_557.jpg\n",
            "Copied: Metal_658.jpg\n",
            "Copied: Metal_693.jpg\n",
            "Copied: Metal_343.jpg\n",
            "Copied: Metal_482.jpg\n",
            "Copied: Metal_429.jpg\n",
            "Copied: Metal_20.jpg\n",
            "Copied: Metal_113.jpg\n",
            "Copied: Metal_394.jpg\n",
            "Copied: Metal_205.jpg\n",
            "Copied: Metal_196.jpg\n",
            "Copied: Metal_473.jpg\n",
            "Copied: Metal_773.jpg\n",
            "Copied: Metal_156.jpg\n",
            "Copied: Metal_42.jpg\n",
            "Copied: Metal_81.jpg\n",
            "Copied: Metal_121.jpg\n",
            "Copied: Metal_125.jpg\n",
            "Copied: Metal_613.jpg\n",
            "Copied: Metal_397.jpg\n",
            "Copied: Metal_455.jpg\n",
            "Copied: Metal_151.jpg\n",
            "Copied: Metal_781.jpg\n",
            "Copied: Metal_241.jpg\n",
            "Copied: Metal_416.jpg\n",
            "Copied: Metal_407.jpg\n",
            "Copied: Metal_24.jpg\n",
            "Copied: Metal_427.jpg\n",
            "Copied: Metal_59.jpg\n",
            "Copied: Metal_206.jpg\n",
            "Copied: Metal_132.jpg\n",
            "Copied: Metal_634.jpg\n",
            "Copied: Metal_769.jpg\n",
            "Copied: Metal_490.jpg\n",
            "Copied: Metal_523.jpg\n",
            "Copied: Metal_190.jpg\n",
            "Copied: Metal_101.jpg\n",
            "Copied: Metal_330.jpg\n",
            "Copied: Metal_440.jpg\n",
            "Copied: Metal_610.jpg\n",
            "Copied: Metal_435.jpg\n",
            "Copied: Metal_267.jpg\n",
            "Copied: Metal_417.jpg\n",
            "Copied: Metal_328.jpg\n",
            "Copied: Metal_575.jpg\n",
            "Copied: Metal_371.jpg\n",
            "Copied: Metal_364.jpg\n",
            "Copied: Metal_310.jpg\n",
            "Copied: Metal_573.jpg\n",
            "Copied: Metal_565.jpg\n",
            "Copied: Metal_754.jpg\n",
            "Copied: Metal_37.jpg\n",
            "Copied: Metal_513.jpg\n",
            "Copied: Metal_521.jpg\n",
            "Copied: Metal_306.jpg\n",
            "Copied: Metal_582.jpg\n",
            "Copied: Metal_32.jpg\n",
            "Copied: Metal_233.jpg\n",
            "Copied: Metal_670.jpg\n",
            "Copied: Metal_759.jpg\n",
            "Copied: Metal_128.jpg\n",
            "Copied: Metal_274.jpg\n",
            "Copied: Metal_167.jpg\n",
            "Copied: Metal_104.jpg\n",
            "Copied: Metal_207.jpg\n",
            "Copied: Metal_564.jpg\n",
            "Copied: Metal_707.jpg\n",
            "Copied: Metal_423.jpg\n",
            "Copied: Metal_714.jpg\n",
            "Copied: Metal_492.jpg\n",
            "Copied: Metal_689.jpg\n",
            "Copied: Metal_550.jpg\n",
            "Copied: Metal_747.jpg\n",
            "Copied: Metal_465.jpg\n",
            "Copied: Metal_551.jpg\n",
            "Copied: Metal_390.jpg\n",
            "Copied: Metal_186.jpg\n",
            "Copied: Metal_424.jpg\n",
            "Copied: Metal_270.jpg\n",
            "Copied: Metal_300.jpg\n",
            "Copied: Metal_442.jpg\n",
            "Copied: Metal_89.jpg\n",
            "Copied: Metal_544.jpg\n",
            "Copied: Metal_458.jpg\n",
            "Copied: Metal_750.jpg\n",
            "Copied: Metal_408.jpg\n",
            "Copied: Metal_743.jpg\n",
            "Copied: Metal_169.jpg\n",
            "Copied: Metal_503.jpg\n",
            "Copied: Metal_337.jpg\n",
            "Copied: Metal_262.jpg\n",
            "Copied: Metal_72.jpg\n",
            "Copied: Metal_624.jpg\n",
            "Copied: Metal_238.jpg\n",
            "Copied: Metal_742.jpg\n",
            "Copied: Metal_741.jpg\n",
            "Copied: Metal_340.jpg\n",
            "Copied: Metal_451.jpg\n",
            "Copied: Metal_356.jpg\n",
            "Copied: Metal_124.jpg\n",
            "Copied: Metal_105.jpg\n",
            "Copied: Metal_107.jpg\n",
            "Copied: Metal_84.jpg\n",
            "Copied: Metal_782.jpg\n",
            "Copied: Metal_144.jpg\n",
            "Copied: Metal_116.jpg\n",
            "Copied: Metal_493.jpg\n",
            "Copied: Metal_97.jpg\n",
            "Copied: Metal_757.jpg\n",
            "Copied: Metal_723.jpg\n",
            "Copied: Metal_305.jpg\n",
            "Copied: Metal_548.jpg\n",
            "Copied: Metal_278.jpg\n",
            "Copied: Metal_594.jpg\n",
            "Copied: Metal_703.jpg\n",
            "Copied: Metal_600.jpg\n",
            "Copied: Metal_321.jpg\n",
            "Copied: Metal_701.jpg\n",
            "Copied: Metal_529.jpg\n",
            "Copied: Metal_505.jpg\n",
            "Copied: Metal_786.jpg\n",
            "Copied: Metal_590.jpg\n",
            "Copied: Metal_199.jpg\n",
            "Copied: Metal_612.jpg\n",
            "Copied: Metal_253.jpg\n",
            "Copied: Metal_92.jpg\n",
            "Copied: Metal_719.jpg\n",
            "Copied: Metal_382.jpg\n",
            "Copied: Metal_403.jpg\n",
            "Copied: Metal_185.jpg\n",
            "Copied: Metal_748.jpg\n",
            "Copied: Metal_12.jpg\n",
            "Copied: Metal_487.jpg\n",
            "Copied: Metal_203.jpg\n",
            "Copied: Metal_581.jpg\n",
            "Copied: Metal_679.jpg\n",
            "Copied: Metal_787.jpg\n",
            "Copied: Metal_272.jpg\n",
            "Copied: Metal_1.jpg\n",
            "Copied: Metal_554.jpg\n",
            "Copied: Metal_261.jpg\n",
            "Copied: Metal_539.jpg\n",
            "Copied: Metal_90.jpg\n",
            "Copied: Metal_35.jpg\n",
            "Copied: Metal_110.jpg\n",
            "Copied: Metal_232.jpg\n",
            "Copied: Metal_358.jpg\n",
            "Copied: Metal_593.jpg\n",
            "Copied: Metal_395.jpg\n",
            "Copied: Metal_583.jpg\n",
            "Copied: Metal_213.jpg\n",
            "Copied: Metal_504.jpg\n",
            "Copied: Metal_320.jpg\n",
            "Copied: Metal_607.jpg\n",
            "Copied: Metal_304.jpg\n",
            "Copied: Metal_14.jpg\n",
            "Copied: Metal_637.jpg\n",
            "Copied: Metal_556.jpg\n",
            "Copied: Metal_631.jpg\n",
            "Copied: Metal_228.jpg\n",
            "Copied: Metal_266.jpg\n",
            "Copied: Metal_785.jpg\n",
            "Copied: Metal_690.jpg\n",
            "Copied: Metal_126.jpg\n",
            "Copied: Metal_4.jpg\n",
            "Copied: Metal_729.jpg\n",
            "Copied: Metal_302.jpg\n",
            "Copied: Metal_259.jpg\n",
            "Copied: Metal_249.jpg\n",
            "Copied: Metal_135.jpg\n",
            "Copied: Metal_273.jpg\n",
            "Copied: Metal_99.jpg\n",
            "Copied: Metal_672.jpg\n",
            "Copied: Metal_329.jpg\n",
            "Copied: Metal_15.jpg\n",
            "Copied: Metal_108.jpg\n",
            "Copied: Metal_75.jpg\n",
            "Copied: Metal_22.jpg\n",
            "Copied: Metal_608.jpg\n",
            "Copied: Metal_237.jpg\n",
            "Copied: Metal_636.jpg\n",
            "Copied: Metal_524.jpg\n",
            "Copied: Metal_65.jpg\n",
            "Copied: Metal_178.jpg\n",
            "Copied: Metal_201.jpg\n",
            "Copied: Metal_57.jpg\n",
            "Copied: Metal_410.jpg\n",
            "Copied: Metal_682.jpg\n",
            "Copied: Metal_622.jpg\n",
            "Copied: Metal_176.jpg\n",
            "Copied: Metal_218.jpg\n",
            "Copied: Metal_538.jpg\n",
            "Copied: Metal_170.jpg\n",
            "Copied: Metal_700.jpg\n",
            "Copied: Metal_734.jpg\n",
            "Copied: Metal_280.jpg\n",
            "Copied: Metal_240.jpg\n",
            "Copied: Metal_197.jpg\n",
            "Copied: Metal_720.jpg\n",
            "Copied: Metal_606.jpg\n",
            "Copied: Metal_694.jpg\n",
            "Copied: Metal_147.jpg\n",
            "Copied: Metal_733.jpg\n",
            "Copied: Metal_7.jpg\n",
            "Copied: Metal_331.jpg\n",
            "Copied: Metal_303.jpg\n",
            "Copied: Metal_599.jpg\n",
            "Copied: Metal_716.jpg\n",
            "Copied: Metal_39.jpg\n",
            "Copied: Metal_709.jpg\n",
            "Copied: Metal_384.jpg\n",
            "Copied: Metal_706.jpg\n",
            "Copied: Metal_627.jpg\n",
            "Copied: Metal_219.jpg\n",
            "Copied: Metal_469.jpg\n",
            "Copied: Metal_586.jpg\n",
            "Copied: Metal_289.jpg\n",
            "Copied: Metal_383.jpg\n",
            "Copied: Metal_746.jpg\n",
            "Copied: Metal_11.jpg\n",
            "Copied: Metal_665.jpg\n",
            "Copied: Metal_45.jpg\n",
            "Copied: Metal_98.jpg\n",
            "Copied: Metal_217.jpg\n",
            "Copied: Metal_368.jpg\n",
            "Copied: Metal_369.jpg\n",
            "Copied: Metal_396.jpg\n",
            "\n",
            "Total 750 files copied from '/root/.cache/kagglehub/datasets/joebeachcapital/realwaste/versions/1/realwaste-main/RealWaste/Metal' to 'dataset/train/metal' (random: True).\n"
          ]
        }
      ]
    },
    {
      "cell_type": "markdown",
      "source": [
        "#### TODO: Check for duplicates"
      ],
      "metadata": {
        "id": "wxK1bgraC08p"
      }
    },
    {
      "cell_type": "markdown",
      "source": [
        "### Create Validation Dataset\n",
        "\n",
        "This dataset will be created by moving some files from training dataset."
      ],
      "metadata": {
        "id": "Ml-cAB1aAMS1"
      }
    },
    {
      "cell_type": "code",
      "source": [
        "def move_validation_split_custom(train_dir, val_dir, per_class_counts: dict, random_select=True):\n",
        "    train_dir = Path(train_dir)\n",
        "    val_dir = Path(val_dir)\n",
        "    val_dir.mkdir(parents=True, exist_ok=True)\n",
        "\n",
        "    for class_name, n in per_class_counts.items():\n",
        "        class_dir = train_dir / class_name\n",
        "        if not class_dir.exists():\n",
        "            print(f\"⚠️ Folder tidak ditemukan: {class_dir}\")\n",
        "            continue\n",
        "\n",
        "        images = sorted([p for p in class_dir.glob(\"*.*\") if p.suffix.lower() in {'.jpg', '.jpeg', '.png'}])\n",
        "        selected = random.sample(images, min(n, len(images))) if random_select else images[:n]\n",
        "        val_class_dir = val_dir / class_name\n",
        "        val_class_dir.mkdir(parents=True, exist_ok=True)\n",
        "\n",
        "        print(f\"📁 {class_name}: Memindahkan {len(selected)} file...\")\n",
        "        for img in tqdm(selected, desc=f\"  Pindah {class_name}\", leave=False):\n",
        "            shutil.move(str(img), str(val_class_dir / img.name))\n",
        "\n",
        "    print(\"\\n✅ Selesai membuat validasi set proporsional.\")\n"
      ],
      "metadata": {
        "id": "XqGECqIqAg-p"
      },
      "execution_count": 51,
      "outputs": []
    },
    {
      "cell_type": "code",
      "source": [
        "# 15% validasi per kelas\n",
        "per_class_counts = {\n",
        "    \"glass\": 495,\n",
        "    \"metal\": 525,\n",
        "    \"organic\": 300,\n",
        "    \"paper\": 600,\n",
        "    \"plastic\": 600,\n",
        "    \"styrofoam\": 150,\n",
        "    \"textiles\": 600\n",
        "}\n",
        "\n",
        "move_validation_split_custom(\"dataset/train\", \"dataset/test\", per_class_counts, random_select=True)"
      ],
      "metadata": {
        "id": "wov1MSNIAxgs",
        "outputId": "4e3a21fc-cf05-4eea-a935-0380155d04e4",
        "colab": {
          "base_uri": "https://localhost:8080/"
        }
      },
      "execution_count": 52,
      "outputs": [
        {
          "output_type": "stream",
          "name": "stdout",
          "text": [
            "📁 glass: Memindahkan 495 file...\n"
          ]
        },
        {
          "output_type": "stream",
          "name": "stderr",
          "text": []
        },
        {
          "output_type": "stream",
          "name": "stdout",
          "text": [
            "📁 metal: Memindahkan 525 file...\n"
          ]
        },
        {
          "output_type": "stream",
          "name": "stderr",
          "text": []
        },
        {
          "output_type": "stream",
          "name": "stdout",
          "text": [
            "📁 organic: Memindahkan 300 file...\n"
          ]
        },
        {
          "output_type": "stream",
          "name": "stderr",
          "text": []
        },
        {
          "output_type": "stream",
          "name": "stdout",
          "text": [
            "📁 paper: Memindahkan 600 file...\n"
          ]
        },
        {
          "output_type": "stream",
          "name": "stderr",
          "text": []
        },
        {
          "output_type": "stream",
          "name": "stdout",
          "text": [
            "📁 plastic: Memindahkan 600 file...\n"
          ]
        },
        {
          "output_type": "stream",
          "name": "stderr",
          "text": []
        },
        {
          "output_type": "stream",
          "name": "stdout",
          "text": [
            "📁 styrofoam: Memindahkan 150 file...\n"
          ]
        },
        {
          "output_type": "stream",
          "name": "stderr",
          "text": []
        },
        {
          "output_type": "stream",
          "name": "stdout",
          "text": [
            "📁 textiles: Memindahkan 600 file...\n"
          ]
        },
        {
          "output_type": "stream",
          "name": "stderr",
          "text": [
            "                                                          "
          ]
        },
        {
          "output_type": "stream",
          "name": "stdout",
          "text": [
            "\n",
            "✅ Selesai membuat validasi set proporsional.\n"
          ]
        },
        {
          "output_type": "stream",
          "name": "stderr",
          "text": [
            "\r"
          ]
        }
      ]
    },
    {
      "cell_type": "markdown",
      "source": [
        "### Data Distribution checking"
      ],
      "metadata": {
        "id": "NZwJYq_hH4zT"
      }
    },
    {
      "cell_type": "code",
      "source": [
        "from collections import Counter\n",
        "from torchvision.datasets import ImageFolder\n",
        "\n",
        "train_dataset = ImageFolder(\"dataset/train\")\n",
        "label_counts = Counter([label for _, label in train_dataset])\n",
        "print(\"Label mapping:\", train_dataset.class_to_idx)\n",
        "print(\"Distribusi kelas:\", label_counts)\n",
        "\n",
        "# test_dataset = ImageFolder(\"dataset/test\")\n",
        "# label_counts = Counter([label for _, label in test_dataset])\n",
        "# print(\"Distribusi kelas:\", label_counts)\n"
      ],
      "metadata": {
        "colab": {
          "base_uri": "https://localhost:8080/"
        },
        "id": "3j6nGKt8H5mS",
        "outputId": "2d0cfee4-c2cd-41b5-c834-779fefcb9f54"
      },
      "execution_count": 53,
      "outputs": [
        {
          "output_type": "stream",
          "name": "stdout",
          "text": [
            "Label mapping: {'glass': 0, 'metal': 1, 'organic': 2, 'paper': 3, 'plastic': 4, 'styrofoam': 5, 'textiles': 6}\n",
            "Distribusi kelas: Counter({3: 3400, 4: 3400, 6: 3400, 1: 2975, 0: 2805, 2: 1700, 5: 850})\n"
          ]
        }
      ]
    },
    {
      "cell_type": "markdown",
      "source": [
        "## Training and Evaluation"
      ],
      "metadata": {
        "id": "atrzVjhIJPyq"
      }
    },
    {
      "cell_type": "code",
      "execution_count": 50,
      "metadata": {
        "colab": {
          "base_uri": "https://localhost:8080/"
        },
        "id": "9Ry525mbBaZW",
        "outputId": "744d7a62-2af0-4be4-8bac-1f8fc7a7dddc"
      },
      "outputs": [
        {
          "output_type": "stream",
          "name": "stdout",
          "text": [
            "Requirement already satisfied: torch in /usr/local/lib/python3.11/dist-packages (2.6.0+cu124)\n",
            "Requirement already satisfied: torchvision in /usr/local/lib/python3.11/dist-packages (0.21.0+cu124)\n",
            "Requirement already satisfied: matplotlib in /usr/local/lib/python3.11/dist-packages (3.10.0)\n",
            "Requirement already satisfied: filelock in /usr/local/lib/python3.11/dist-packages (from torch) (3.18.0)\n",
            "Requirement already satisfied: typing-extensions>=4.10.0 in /usr/local/lib/python3.11/dist-packages (from torch) (4.14.1)\n",
            "Requirement already satisfied: networkx in /usr/local/lib/python3.11/dist-packages (from torch) (3.5)\n",
            "Requirement already satisfied: jinja2 in /usr/local/lib/python3.11/dist-packages (from torch) (3.1.6)\n",
            "Requirement already satisfied: fsspec in /usr/local/lib/python3.11/dist-packages (from torch) (2025.3.2)\n",
            "Collecting nvidia-cuda-nvrtc-cu12==12.4.127 (from torch)\n",
            "  Downloading nvidia_cuda_nvrtc_cu12-12.4.127-py3-none-manylinux2014_x86_64.whl.metadata (1.5 kB)\n",
            "Collecting nvidia-cuda-runtime-cu12==12.4.127 (from torch)\n",
            "  Downloading nvidia_cuda_runtime_cu12-12.4.127-py3-none-manylinux2014_x86_64.whl.metadata (1.5 kB)\n",
            "Collecting nvidia-cuda-cupti-cu12==12.4.127 (from torch)\n",
            "  Downloading nvidia_cuda_cupti_cu12-12.4.127-py3-none-manylinux2014_x86_64.whl.metadata (1.6 kB)\n",
            "Collecting nvidia-cudnn-cu12==9.1.0.70 (from torch)\n",
            "  Downloading nvidia_cudnn_cu12-9.1.0.70-py3-none-manylinux2014_x86_64.whl.metadata (1.6 kB)\n",
            "Collecting nvidia-cublas-cu12==12.4.5.8 (from torch)\n",
            "  Downloading nvidia_cublas_cu12-12.4.5.8-py3-none-manylinux2014_x86_64.whl.metadata (1.5 kB)\n",
            "Collecting nvidia-cufft-cu12==11.2.1.3 (from torch)\n",
            "  Downloading nvidia_cufft_cu12-11.2.1.3-py3-none-manylinux2014_x86_64.whl.metadata (1.5 kB)\n",
            "Collecting nvidia-curand-cu12==10.3.5.147 (from torch)\n",
            "  Downloading nvidia_curand_cu12-10.3.5.147-py3-none-manylinux2014_x86_64.whl.metadata (1.5 kB)\n",
            "Collecting nvidia-cusolver-cu12==11.6.1.9 (from torch)\n",
            "  Downloading nvidia_cusolver_cu12-11.6.1.9-py3-none-manylinux2014_x86_64.whl.metadata (1.6 kB)\n",
            "Collecting nvidia-cusparse-cu12==12.3.1.170 (from torch)\n",
            "  Downloading nvidia_cusparse_cu12-12.3.1.170-py3-none-manylinux2014_x86_64.whl.metadata (1.6 kB)\n",
            "Requirement already satisfied: nvidia-cusparselt-cu12==0.6.2 in /usr/local/lib/python3.11/dist-packages (from torch) (0.6.2)\n",
            "Requirement already satisfied: nvidia-nccl-cu12==2.21.5 in /usr/local/lib/python3.11/dist-packages (from torch) (2.21.5)\n",
            "Requirement already satisfied: nvidia-nvtx-cu12==12.4.127 in /usr/local/lib/python3.11/dist-packages (from torch) (12.4.127)\n",
            "Collecting nvidia-nvjitlink-cu12==12.4.127 (from torch)\n",
            "  Downloading nvidia_nvjitlink_cu12-12.4.127-py3-none-manylinux2014_x86_64.whl.metadata (1.5 kB)\n",
            "Requirement already satisfied: triton==3.2.0 in /usr/local/lib/python3.11/dist-packages (from torch) (3.2.0)\n",
            "Requirement already satisfied: sympy==1.13.1 in /usr/local/lib/python3.11/dist-packages (from torch) (1.13.1)\n",
            "Requirement already satisfied: mpmath<1.4,>=1.1.0 in /usr/local/lib/python3.11/dist-packages (from sympy==1.13.1->torch) (1.3.0)\n",
            "Requirement already satisfied: numpy in /usr/local/lib/python3.11/dist-packages (from torchvision) (2.0.2)\n",
            "Requirement already satisfied: pillow!=8.3.*,>=5.3.0 in /usr/local/lib/python3.11/dist-packages (from torchvision) (11.2.1)\n",
            "Requirement already satisfied: contourpy>=1.0.1 in /usr/local/lib/python3.11/dist-packages (from matplotlib) (1.3.2)\n",
            "Requirement already satisfied: cycler>=0.10 in /usr/local/lib/python3.11/dist-packages (from matplotlib) (0.12.1)\n",
            "Requirement already satisfied: fonttools>=4.22.0 in /usr/local/lib/python3.11/dist-packages (from matplotlib) (4.58.5)\n",
            "Requirement already satisfied: kiwisolver>=1.3.1 in /usr/local/lib/python3.11/dist-packages (from matplotlib) (1.4.8)\n",
            "Requirement already satisfied: packaging>=20.0 in /usr/local/lib/python3.11/dist-packages (from matplotlib) (25.0)\n",
            "Requirement already satisfied: pyparsing>=2.3.1 in /usr/local/lib/python3.11/dist-packages (from matplotlib) (3.2.3)\n",
            "Requirement already satisfied: python-dateutil>=2.7 in /usr/local/lib/python3.11/dist-packages (from matplotlib) (2.9.0.post0)\n",
            "Requirement already satisfied: six>=1.5 in /usr/local/lib/python3.11/dist-packages (from python-dateutil>=2.7->matplotlib) (1.17.0)\n",
            "Requirement already satisfied: MarkupSafe>=2.0 in /usr/local/lib/python3.11/dist-packages (from jinja2->torch) (3.0.2)\n",
            "Downloading nvidia_cublas_cu12-12.4.5.8-py3-none-manylinux2014_x86_64.whl (363.4 MB)\n",
            "\u001b[2K   \u001b[90m━━━━━━━━━━━━━━━━━━━━━━━━━━━━━━━━━━━━━━━━\u001b[0m \u001b[32m363.4/363.4 MB\u001b[0m \u001b[31m4.0 MB/s\u001b[0m eta \u001b[36m0:00:00\u001b[0m\n",
            "\u001b[?25hDownloading nvidia_cuda_cupti_cu12-12.4.127-py3-none-manylinux2014_x86_64.whl (13.8 MB)\n",
            "\u001b[2K   \u001b[90m━━━━━━━━━━━━━━━━━━━━━━━━━━━━━━━━━━━━━━━━\u001b[0m \u001b[32m13.8/13.8 MB\u001b[0m \u001b[31m66.8 MB/s\u001b[0m eta \u001b[36m0:00:00\u001b[0m\n",
            "\u001b[?25hDownloading nvidia_cuda_nvrtc_cu12-12.4.127-py3-none-manylinux2014_x86_64.whl (24.6 MB)\n",
            "\u001b[2K   \u001b[90m━━━━━━━━━━━━━━━━━━━━━━━━━━━━━━━━━━━━━━━━\u001b[0m \u001b[32m24.6/24.6 MB\u001b[0m \u001b[31m31.7 MB/s\u001b[0m eta \u001b[36m0:00:00\u001b[0m\n",
            "\u001b[?25hDownloading nvidia_cuda_runtime_cu12-12.4.127-py3-none-manylinux2014_x86_64.whl (883 kB)\n",
            "\u001b[2K   \u001b[90m━━━━━━━━━━━━━━━━━━━━━━━━━━━━━━━━━━━━━━━━\u001b[0m \u001b[32m883.7/883.7 kB\u001b[0m \u001b[31m42.1 MB/s\u001b[0m eta \u001b[36m0:00:00\u001b[0m\n",
            "\u001b[?25hDownloading nvidia_cudnn_cu12-9.1.0.70-py3-none-manylinux2014_x86_64.whl (664.8 MB)\n",
            "\u001b[2K   \u001b[90m━━━━━━━━━━━━━━━━━━━━━━━━━━━━━━━━━━━━━━━━\u001b[0m \u001b[32m664.8/664.8 MB\u001b[0m \u001b[31m1.2 MB/s\u001b[0m eta \u001b[36m0:00:00\u001b[0m\n",
            "\u001b[?25hDownloading nvidia_cufft_cu12-11.2.1.3-py3-none-manylinux2014_x86_64.whl (211.5 MB)\n",
            "\u001b[2K   \u001b[90m━━━━━━━━━━━━━━━━━━━━━━━━━━━━━━━━━━━━━━━━\u001b[0m \u001b[32m211.5/211.5 MB\u001b[0m \u001b[31m5.7 MB/s\u001b[0m eta \u001b[36m0:00:00\u001b[0m\n",
            "\u001b[?25hDownloading nvidia_curand_cu12-10.3.5.147-py3-none-manylinux2014_x86_64.whl (56.3 MB)\n",
            "\u001b[2K   \u001b[90m━━━━━━━━━━━━━━━━━━━━━━━━━━━━━━━━━━━━━━━━\u001b[0m \u001b[32m56.3/56.3 MB\u001b[0m \u001b[31m14.9 MB/s\u001b[0m eta \u001b[36m0:00:00\u001b[0m\n",
            "\u001b[?25hDownloading nvidia_cusolver_cu12-11.6.1.9-py3-none-manylinux2014_x86_64.whl (127.9 MB)\n",
            "\u001b[2K   \u001b[90m━━━━━━━━━━━━━━━━━━━━━━━━━━━━━━━━━━━━━━━━\u001b[0m \u001b[32m127.9/127.9 MB\u001b[0m \u001b[31m7.7 MB/s\u001b[0m eta \u001b[36m0:00:00\u001b[0m\n",
            "\u001b[?25hDownloading nvidia_cusparse_cu12-12.3.1.170-py3-none-manylinux2014_x86_64.whl (207.5 MB)\n",
            "\u001b[2K   \u001b[90m━━━━━━━━━━━━━━━━━━━━━━━━━━━━━━━━━━━━━━━━\u001b[0m \u001b[32m207.5/207.5 MB\u001b[0m \u001b[31m6.8 MB/s\u001b[0m eta \u001b[36m0:00:00\u001b[0m\n",
            "\u001b[?25hDownloading nvidia_nvjitlink_cu12-12.4.127-py3-none-manylinux2014_x86_64.whl (21.1 MB)\n",
            "\u001b[2K   \u001b[90m━━━━━━━━━━━━━━━━━━━━━━━━━━━━━━━━━━━━━━━━\u001b[0m \u001b[32m21.1/21.1 MB\u001b[0m \u001b[31m108.7 MB/s\u001b[0m eta \u001b[36m0:00:00\u001b[0m\n",
            "\u001b[?25hInstalling collected packages: nvidia-nvjitlink-cu12, nvidia-curand-cu12, nvidia-cufft-cu12, nvidia-cuda-runtime-cu12, nvidia-cuda-nvrtc-cu12, nvidia-cuda-cupti-cu12, nvidia-cublas-cu12, nvidia-cusparse-cu12, nvidia-cudnn-cu12, nvidia-cusolver-cu12\n",
            "  Attempting uninstall: nvidia-nvjitlink-cu12\n",
            "    Found existing installation: nvidia-nvjitlink-cu12 12.5.82\n",
            "    Uninstalling nvidia-nvjitlink-cu12-12.5.82:\n",
            "      Successfully uninstalled nvidia-nvjitlink-cu12-12.5.82\n",
            "  Attempting uninstall: nvidia-curand-cu12\n",
            "    Found existing installation: nvidia-curand-cu12 10.3.6.82\n",
            "    Uninstalling nvidia-curand-cu12-10.3.6.82:\n",
            "      Successfully uninstalled nvidia-curand-cu12-10.3.6.82\n",
            "  Attempting uninstall: nvidia-cufft-cu12\n",
            "    Found existing installation: nvidia-cufft-cu12 11.2.3.61\n",
            "    Uninstalling nvidia-cufft-cu12-11.2.3.61:\n",
            "      Successfully uninstalled nvidia-cufft-cu12-11.2.3.61\n",
            "  Attempting uninstall: nvidia-cuda-runtime-cu12\n",
            "    Found existing installation: nvidia-cuda-runtime-cu12 12.5.82\n",
            "    Uninstalling nvidia-cuda-runtime-cu12-12.5.82:\n",
            "      Successfully uninstalled nvidia-cuda-runtime-cu12-12.5.82\n",
            "  Attempting uninstall: nvidia-cuda-nvrtc-cu12\n",
            "    Found existing installation: nvidia-cuda-nvrtc-cu12 12.5.82\n",
            "    Uninstalling nvidia-cuda-nvrtc-cu12-12.5.82:\n",
            "      Successfully uninstalled nvidia-cuda-nvrtc-cu12-12.5.82\n",
            "  Attempting uninstall: nvidia-cuda-cupti-cu12\n",
            "    Found existing installation: nvidia-cuda-cupti-cu12 12.5.82\n",
            "    Uninstalling nvidia-cuda-cupti-cu12-12.5.82:\n",
            "      Successfully uninstalled nvidia-cuda-cupti-cu12-12.5.82\n",
            "  Attempting uninstall: nvidia-cublas-cu12\n",
            "    Found existing installation: nvidia-cublas-cu12 12.5.3.2\n",
            "    Uninstalling nvidia-cublas-cu12-12.5.3.2:\n",
            "      Successfully uninstalled nvidia-cublas-cu12-12.5.3.2\n",
            "  Attempting uninstall: nvidia-cusparse-cu12\n",
            "    Found existing installation: nvidia-cusparse-cu12 12.5.1.3\n",
            "    Uninstalling nvidia-cusparse-cu12-12.5.1.3:\n",
            "      Successfully uninstalled nvidia-cusparse-cu12-12.5.1.3\n",
            "  Attempting uninstall: nvidia-cudnn-cu12\n",
            "    Found existing installation: nvidia-cudnn-cu12 9.3.0.75\n",
            "    Uninstalling nvidia-cudnn-cu12-9.3.0.75:\n",
            "      Successfully uninstalled nvidia-cudnn-cu12-9.3.0.75\n",
            "  Attempting uninstall: nvidia-cusolver-cu12\n",
            "    Found existing installation: nvidia-cusolver-cu12 11.6.3.83\n",
            "    Uninstalling nvidia-cusolver-cu12-11.6.3.83:\n",
            "      Successfully uninstalled nvidia-cusolver-cu12-11.6.3.83\n",
            "Successfully installed nvidia-cublas-cu12-12.4.5.8 nvidia-cuda-cupti-cu12-12.4.127 nvidia-cuda-nvrtc-cu12-12.4.127 nvidia-cuda-runtime-cu12-12.4.127 nvidia-cudnn-cu12-9.1.0.70 nvidia-cufft-cu12-11.2.1.3 nvidia-curand-cu12-10.3.5.147 nvidia-cusolver-cu12-11.6.1.9 nvidia-cusparse-cu12-12.3.1.170 nvidia-nvjitlink-cu12-12.4.127\n"
          ]
        }
      ],
      "source": [
        "!pip install torch torchvision matplotlib"
      ]
    },
    {
      "cell_type": "markdown",
      "source": [
        "### Training Options"
      ],
      "metadata": {
        "id": "kVvKfsV9rx3r"
      }
    },
    {
      "cell_type": "markdown",
      "source": [
        "#### (1) Training with early stopping - Recommended"
      ],
      "metadata": {
        "id": "ILDzO2myN_Pg"
      }
    },
    {
      "cell_type": "code",
      "source": [
        "import torch\n",
        "import torch.nn as nn\n",
        "from torch.utils.data import DataLoader\n",
        "from torchvision import datasets, transforms, models\n",
        "from sklearn.metrics import classification_report, confusion_matrix, ConfusionMatrixDisplay\n",
        "import matplotlib.pyplot as plt\n",
        "import seaborn as sns\n",
        "import numpy as np\n",
        "from collections import Counter\n",
        "\n",
        "# 🔁 Transformasi\n",
        "transform = transforms.Compose([\n",
        "    transforms.Resize((128, 128)),\n",
        "    transforms.RandomHorizontalFlip(),\n",
        "    transforms.ToTensor(),\n",
        "    transforms.Normalize([0.5], [0.5])\n",
        "])\n",
        "\n",
        "# 📁 Load dataset\n",
        "train_dataset = datasets.ImageFolder(\"dataset/train\", transform=transform)\n",
        "val_dataset = datasets.ImageFolder(\"dataset/test\", transform=transform)\n",
        "class_names = train_dataset.classes\n",
        "print(\"Label mapping:\", train_dataset.class_to_idx)\n",
        "print(\"Train distribusi:\", Counter([label for _, label in train_dataset]))\n",
        "print(\"Val distribusi:\", Counter([label for _, label in val_dataset]))\n",
        "\n",
        "train_loader = DataLoader(train_dataset, batch_size=16, shuffle=True)\n",
        "val_loader = DataLoader(val_dataset, batch_size=16)\n",
        "\n",
        "# ⚙️ Model\n",
        "device = torch.device(\"cuda\" if torch.cuda.is_available() else \"cpu\")\n",
        "model = models.resnet18(pretrained=True)\n",
        "model.fc = nn.Linear(model.fc.in_features, len(class_names))\n",
        "model = model.to(device)\n",
        "\n",
        "# 🎯 Loss & optimizer\n",
        "criterion = nn.CrossEntropyLoss()\n",
        "optimizer = torch.optim.Adam(model.parameters(), lr=0.001)\n",
        "\n",
        "# 🔁 Training loop\n",
        "epochs = 20\n",
        "patience = 6\n",
        "train_accs, val_accs = [], []\n",
        "train_losses, val_losses = [], []\n",
        "best_val_acc = 0\n",
        "early_stop_counter = 0\n",
        "\n",
        "for epoch in range(epochs):\n",
        "    model.train()\n",
        "    train_loss = 0\n",
        "    correct, total = 0, 0\n",
        "\n",
        "    for images, labels in train_loader:\n",
        "        images, labels = images.to(device), labels.to(device)\n",
        "\n",
        "        optimizer.zero_grad()\n",
        "        outputs = model(images)\n",
        "        loss = criterion(outputs, labels)\n",
        "        loss.backward()\n",
        "        optimizer.step()\n",
        "\n",
        "        train_loss += loss.item()\n",
        "        _, preds = torch.max(outputs, 1)\n",
        "        correct += torch.sum(preds == labels)\n",
        "        total += labels.size(0)\n",
        "\n",
        "    train_acc = correct / total\n",
        "    train_accs.append(train_acc.item())\n",
        "    train_losses.append(train_loss / len(train_loader))\n",
        "\n",
        "    # 🔍 Validasi\n",
        "    model.eval()\n",
        "    val_loss = 0\n",
        "    correct, total = 0, 0\n",
        "    y_true, y_pred = [], []\n",
        "\n",
        "    with torch.no_grad():\n",
        "        for images, labels in val_loader:\n",
        "            images, labels = images.to(device), labels.to(device)\n",
        "            outputs = model(images)\n",
        "            loss = criterion(outputs, labels)\n",
        "\n",
        "            val_loss += loss.item()\n",
        "            _, preds = torch.max(outputs, 1)\n",
        "            correct += torch.sum(preds == labels)\n",
        "            total += labels.size(0)\n",
        "\n",
        "            y_true.extend(labels.cpu().numpy())\n",
        "            y_pred.extend(preds.cpu().numpy())\n",
        "\n",
        "    val_acc = correct / total\n",
        "    val_accs.append(val_acc.item())\n",
        "    val_losses.append(val_loss / len(val_loader))\n",
        "\n",
        "    print(f\"Epoch {epoch+1}/{epochs} - Train Acc: {train_acc:.4f} - Val Acc: {val_acc:.4f}\")\n",
        "\n",
        "    # 💾 Simpan model terbaik\n",
        "    if val_acc > best_val_acc:\n",
        "        best_val_acc = val_acc\n",
        "        early_stop_counter = 0\n",
        "        torch.save(model.state_dict(), \"best_model.pt\")\n",
        "        print(\"📦 Best model disimpan.\")\n",
        "    else:\n",
        "        early_stop_counter += 1\n",
        "        if early_stop_counter >= patience:\n",
        "            print(\"⏹️ Early stopping triggered.\")\n",
        "            break\n",
        "\n",
        "# 📊 Grafik Accuracy\n",
        "plt.plot(train_accs, label=\"Train\")\n",
        "plt.plot(val_accs, label=\"Validation\")\n",
        "plt.title(\"Train vs Validation Accuracy\")\n",
        "plt.xlabel(\"Epoch\")\n",
        "plt.ylabel(\"Accuracy\")\n",
        "plt.legend()\n",
        "plt.grid(True)\n",
        "plt.show()\n",
        "\n",
        "# 📉 Grafik Loss\n",
        "plt.plot(train_losses, label=\"Train Loss\")\n",
        "plt.plot(val_losses, label=\"Val Loss\")\n",
        "plt.title(\"Train vs Validation Loss\")\n",
        "plt.xlabel(\"Epoch\")\n",
        "plt.ylabel(\"Loss\")\n",
        "plt.legend()\n",
        "plt.grid(True)\n",
        "plt.show()\n",
        "\n",
        "# 📑 Classification Report\n",
        "print(\"=== Classification Report ===\")\n",
        "print(classification_report(y_true, y_pred, target_names=class_names))\n",
        "\n",
        "# 🔷 Confusion Matrix\n",
        "cm = confusion_matrix(y_true, y_pred)\n",
        "disp = ConfusionMatrixDisplay(confusion_matrix=cm, display_labels=class_names)\n",
        "disp.plot(cmap=\"Blues\")\n",
        "plt.title(\"Confusion Matrix\")\n",
        "plt.grid(False)\n",
        "plt.show()\n"
      ],
      "metadata": {
        "colab": {
          "base_uri": "https://localhost:8080/",
          "height": 1000
        },
        "id": "nUEZ24awJXcT",
        "outputId": "c5f54354-671a-44c8-bbdb-8d8a0b201ea0"
      },
      "execution_count": null,
      "outputs": [
        {
          "output_type": "stream",
          "name": "stdout",
          "text": [
            "Label mapping: {'non_organic': 0, 'organic': 1}\n",
            "Train distribusi: Counter({0: 1000, 1: 1000})\n",
            "Val distribusi: Counter({0: 200, 1: 200})\n"
          ]
        },
        {
          "output_type": "stream",
          "name": "stderr",
          "text": [
            "/usr/local/lib/python3.11/dist-packages/torchvision/models/_utils.py:208: UserWarning: The parameter 'pretrained' is deprecated since 0.13 and may be removed in the future, please use 'weights' instead.\n",
            "  warnings.warn(\n",
            "/usr/local/lib/python3.11/dist-packages/torchvision/models/_utils.py:223: UserWarning: Arguments other than a weight enum or `None` for 'weights' are deprecated since 0.13 and may be removed in the future. The current behavior is equivalent to passing `weights=ResNet18_Weights.IMAGENET1K_V1`. You can also use `weights=ResNet18_Weights.DEFAULT` to get the most up-to-date weights.\n",
            "  warnings.warn(msg)\n"
          ]
        },
        {
          "output_type": "stream",
          "name": "stdout",
          "text": [
            "Epoch 1/20 - Train Acc: 0.8000 - Val Acc: 0.8450\n",
            "📦 Best model disimpan.\n",
            "Epoch 2/20 - Train Acc: 0.8450 - Val Acc: 0.8675\n",
            "📦 Best model disimpan.\n",
            "Epoch 3/20 - Train Acc: 0.8645 - Val Acc: 0.8700\n",
            "📦 Best model disimpan.\n",
            "Epoch 4/20 - Train Acc: 0.8890 - Val Acc: 0.8425\n",
            "Epoch 5/20 - Train Acc: 0.8995 - Val Acc: 0.8800\n",
            "📦 Best model disimpan.\n",
            "Epoch 6/20 - Train Acc: 0.8945 - Val Acc: 0.8625\n",
            "Epoch 7/20 - Train Acc: 0.8940 - Val Acc: 0.8675\n",
            "Epoch 8/20 - Train Acc: 0.9075 - Val Acc: 0.8625\n",
            "Epoch 9/20 - Train Acc: 0.9195 - Val Acc: 0.8925\n",
            "📦 Best model disimpan.\n",
            "Epoch 10/20 - Train Acc: 0.9425 - Val Acc: 0.8250\n",
            "Epoch 11/20 - Train Acc: 0.9280 - Val Acc: 0.8250\n",
            "Epoch 12/20 - Train Acc: 0.9305 - Val Acc: 0.9000\n",
            "📦 Best model disimpan.\n",
            "Epoch 13/20 - Train Acc: 0.9425 - Val Acc: 0.8975\n",
            "Epoch 14/20 - Train Acc: 0.9480 - Val Acc: 0.8900\n",
            "Epoch 15/20 - Train Acc: 0.9510 - Val Acc: 0.8625\n",
            "Epoch 16/20 - Train Acc: 0.9610 - Val Acc: 0.8650\n",
            "Epoch 17/20 - Train Acc: 0.9600 - Val Acc: 0.8800\n",
            "Epoch 18/20 - Train Acc: 0.9685 - Val Acc: 0.8575\n",
            "⏹️ Early stopping triggered.\n"
          ]
        },
        {
          "output_type": "display_data",
          "data": {
            "text/plain": [
              "<Figure size 640x480 with 1 Axes>"
            ],
            "image/png": "[encoded data removed]"
          },
          "metadata": {}
        },
        {
          "output_type": "display_data",
          "data": {
            "text/plain": [
              "<Figure size 640x480 with 1 Axes>"
            ],
            "image/png": "[encoded data removed]"
          },
          "metadata": {}
        },
        {
          "output_type": "stream",
          "name": "stdout",
          "text": [
            "=== Classification Report ===\n",
            "              precision    recall  f1-score   support\n",
            "\n",
            " non_organic       0.93      0.78      0.84       200\n",
            "     organic       0.81      0.94      0.87       200\n",
            "\n",
            "    accuracy                           0.86       400\n",
            "   macro avg       0.87      0.86      0.86       400\n",
            "weighted avg       0.87      0.86      0.86       400\n",
            "\n"
          ]
        },
        {
          "output_type": "display_data",
          "data": {
            "text/plain": [
              "<Figure size 640x480 with 2 Axes>"
            ],
            "image/png": "[encoded data removed]"
          },
          "metadata": {}
        }
      ]
    },
    {
      "cell_type": "markdown",
      "source": [
        "#### (2) Training without early stopping"
      ],
      "metadata": {
        "id": "RRpj1OvSsAMc"
      }
    },
    {
      "cell_type": "code",
      "source": [
        "import torch\n",
        "import torch.nn as nn\n",
        "from torch.utils.data import DataLoader, random_split\n",
        "from torchvision import datasets, transforms, models\n",
        "from sklearn.metrics import classification_report, confusion_matrix, ConfusionMatrixDisplay\n",
        "import matplotlib.pyplot as plt\n",
        "import seaborn as sns\n",
        "import numpy as np\n",
        "from collections import Counter\n",
        "import time\n",
        "\n",
        "# Transform\n",
        "transform = transforms.Compose([\n",
        "    transforms.Resize((128, 128)),\n",
        "    transforms.RandomHorizontalFlip(),\n",
        "    transforms.ToTensor(),\n",
        "    transforms.Normalize([0.5], [0.5])\n",
        "])\n",
        "\n",
        "# Dataset\n",
        "train_dataset = datasets.ImageFolder(\"dataset/train\", transform=transform)\n",
        "class_names = train_dataset.classes\n",
        "print(\"Label mapping:\", train_dataset.class_to_idx)\n",
        "print(\"Distribusi:\", Counter([label for _, label in train_dataset]))\n",
        "\n",
        "val_dataset = datasets.ImageFolder(\"dataset/test\", transform=transform)\n",
        "print(\"Label mapping:\", val_dataset.class_to_idx)\n",
        "print(\"Distribusi:\", Counter([label for _, label in val_dataset]))\n",
        "\n",
        "# Split\n",
        "train_loader = DataLoader(train_dataset, batch_size=16, shuffle=True)\n",
        "val_loader = DataLoader(val_dataset, batch_size=16)\n",
        "\n",
        "# Model\n",
        "device = torch.device(\"cuda\" if torch.cuda.is_available() else \"cpu\")\n",
        "model = models.resnet18(pretrained=True)\n",
        "model.fc = nn.Linear(model.fc.in_features, len(class_names))\n",
        "model = model.to(device)\n",
        "\n",
        "# Loss & Optimizer\n",
        "criterion = nn.CrossEntropyLoss()\n",
        "optimizer = torch.optim.Adam(model.parameters(), lr=0.001)\n",
        "\n",
        "# Training\n",
        "epochs = 6\n",
        "train_accs, val_accs = [], []\n",
        "best_val_acc = 0\n",
        "\n",
        "for epoch in range(epochs):\n",
        "    model.train()\n",
        "    correct, total, loss_total = 0, 0, 0\n",
        "\n",
        "    for images, labels in train_loader:\n",
        "        images, labels = images.to(device), labels.to(device)\n",
        "        optimizer.zero_grad()\n",
        "\n",
        "        outputs = model(images)\n",
        "        loss = criterion(outputs, labels)\n",
        "        loss.backward()\n",
        "        optimizer.step()\n",
        "\n",
        "        loss_total += loss.item()\n",
        "        _, preds = torch.max(outputs, 1)\n",
        "        correct += torch.sum(preds == labels)\n",
        "        total += labels.size(0)\n",
        "\n",
        "    train_acc = correct / total\n",
        "    train_accs.append(train_acc.item())\n",
        "    print(f\"Epoch {epoch+1}/{epochs} - Train Acc: {train_acc:.4f}\")\n",
        "\n",
        "    # Validasi\n",
        "    model.eval()\n",
        "    correct, total = 0, 0\n",
        "    with torch.no_grad():\n",
        "        for images, labels in val_loader:\n",
        "            images, labels = images.to(device), labels.to(device)\n",
        "            outputs = model(images)\n",
        "            _, preds = torch.max(outputs, 1)\n",
        "            correct += torch.sum(preds == labels)\n",
        "            total += labels.size(0)\n",
        "\n",
        "    val_acc = correct / total\n",
        "    val_accs.append(val_acc.item())\n",
        "    print(f\"            → Val Acc: {val_acc:.4f}\")\n",
        "\n",
        "# Simpan\n",
        "torch.save(model.state_dict(), \"model_cnn.pt\")\n",
        "print(\"✅ Model disimpan.\")"
      ],
      "metadata": {
        "colab": {
          "base_uri": "https://localhost:8080/"
        },
        "id": "z04jGaYgsFLW",
        "outputId": "95ea3b29-2ecb-46d9-8c3e-c963c437f6ea"
      },
      "execution_count": null,
      "outputs": [
        {
          "output_type": "stream",
          "name": "stdout",
          "text": [
            "Label mapping: {'non_organic': 0, 'organic': 1}\n",
            "Distribusi: Counter({0: 1000, 1: 1000})\n",
            "Label mapping: {'non_organic': 0, 'organic': 1}\n",
            "Distribusi: Counter({0: 200, 1: 200})\n"
          ]
        },
        {
          "output_type": "stream",
          "name": "stderr",
          "text": [
            "/usr/local/lib/python3.11/dist-packages/torchvision/models/_utils.py:208: UserWarning: The parameter 'pretrained' is deprecated since 0.13 and may be removed in the future, please use 'weights' instead.\n",
            "  warnings.warn(\n",
            "/usr/local/lib/python3.11/dist-packages/torchvision/models/_utils.py:223: UserWarning: Arguments other than a weight enum or `None` for 'weights' are deprecated since 0.13 and may be removed in the future. The current behavior is equivalent to passing `weights=ResNet18_Weights.IMAGENET1K_V1`. You can also use `weights=ResNet18_Weights.DEFAULT` to get the most up-to-date weights.\n",
            "  warnings.warn(msg)\n"
          ]
        },
        {
          "output_type": "stream",
          "name": "stdout",
          "text": [
            "Epoch 1/6 - Train Acc: 0.7750\n",
            "            → Val Acc: 0.8850\n",
            "Epoch 2/6 - Train Acc: 0.8655\n",
            "            → Val Acc: 0.8750\n",
            "Epoch 3/6 - Train Acc: 0.8725\n",
            "            → Val Acc: 0.8950\n",
            "Epoch 4/6 - Train Acc: 0.8720\n",
            "            → Val Acc: 0.8600\n",
            "Epoch 5/6 - Train Acc: 0.8730\n",
            "            → Val Acc: 0.8975\n",
            "Epoch 6/6 - Train Acc: 0.8915\n",
            "            → Val Acc: 0.9175\n",
            "✅ Model disimpan.\n"
          ]
        }
      ]
    },
    {
      "cell_type": "markdown",
      "source": [
        "### Evaluation"
      ],
      "metadata": {
        "id": "OG66ezAGOKAn"
      }
    },
    {
      "cell_type": "code",
      "source": [
        "# 📊 Evaluasi dengan laporan & Confusion Matrix\n",
        "model.eval()\n",
        "y_true, y_pred = [], []\n",
        "\n",
        "for images, labels in val_loader:\n",
        "    images = images.to(device)\n",
        "    outputs = model(images)\n",
        "    _, preds = torch.max(outputs, 1)\n",
        "\n",
        "    y_true.extend(labels.numpy())\n",
        "    y_pred.extend(preds.cpu().numpy())\n",
        "\n",
        "print(\"\\n=== Classification Report ===\")\n",
        "print(classification_report(y_true, y_pred, target_names=class_names))\n",
        "\n",
        "# Confusion Matrix\n",
        "cm = confusion_matrix(y_true, y_pred)\n",
        "disp = ConfusionMatrixDisplay(confusion_matrix=cm, display_labels=class_names)\n",
        "disp.plot(cmap=\"Blues\")\n",
        "plt.title(\"Confusion Matrix\")\n",
        "plt.show()\n",
        "\n",
        "# Plot akurasi training & val\n",
        "plt.plot(train_accs, label=\"Train\")\n",
        "plt.plot(val_accs, label=\"Validation\")\n",
        "plt.ylabel(\"Accuracy\")\n",
        "plt.xlabel(\"Epoch\")\n",
        "plt.title(\"Train vs Validation Accuracy\")\n",
        "plt.legend()\n",
        "plt.grid(True)\n",
        "plt.show()"
      ],
      "metadata": {
        "colab": {
          "base_uri": "https://localhost:8080/",
          "height": 1000
        },
        "id": "9wqOURnbONd4",
        "outputId": "4a78a8d3-78bf-48ab-b505-787983caa7c4"
      },
      "execution_count": null,
      "outputs": [
        {
          "output_type": "stream",
          "name": "stdout",
          "text": [
            "\n",
            "=== Classification Report ===\n",
            "              precision    recall  f1-score   support\n",
            "\n",
            " non_organic       0.94      0.89      0.92       200\n",
            "     organic       0.90      0.94      0.92       200\n",
            "\n",
            "    accuracy                           0.92       400\n",
            "   macro avg       0.92      0.92      0.92       400\n",
            "weighted avg       0.92      0.92      0.92       400\n",
            "\n"
          ]
        },
        {
          "output_type": "display_data",
          "data": {
            "text/plain": [
              "<Figure size 640x480 with 2 Axes>"
            ],
            "image/png": "[encoded data removed]"
          },
          "metadata": {}
        },
        {
          "output_type": "display_data",
          "data": {
            "text/plain": [
              "<Figure size 640x480 with 1 Axes>"
            ],
            "image/png": "[encoded data removed]"
          },
          "metadata": {}
        }
      ]
    }
  ]
}